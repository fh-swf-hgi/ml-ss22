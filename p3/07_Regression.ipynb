{
 "cells": [
  {
   "cell_type": "code",
   "execution_count": null,
   "metadata": {},
   "outputs": [],
   "source": [
    "import pandas as pd\n",
    "import numpy as np\n",
    "from sklearn.preprocessing import *\n",
    "from sklearn.model_selection import train_test_split\n",
    "import wget\n",
    "from pathlib import Path"
   ]
  },
  {
   "cell_type": "markdown",
   "metadata": {},
   "source": [
    "Fehlende Pakete bitte so nachinstallieren:\n",
    "```python\n",
    "import sys\n",
    "!{sys.executable} -m pip install <paketname>\n",
    "```\n",
    "(Hinweis: Es kann sein, dass das Paket für *wget* in Ihrer Distribution `pywget` heißt)"
   ]
  },
  {
   "cell_type": "markdown",
   "metadata": {},
   "source": [
    "# Aufgabe zur Linearen Regression"
   ]
  },
  {
   "cell_type": "markdown",
   "metadata": {},
   "source": [
    "In diesem Arbeitblatt wollen wir uns einen Datensatz anschauen, den wir schon von einer vorherigen Aufgabe kennen, nämlich die Spielerstatistiken aus dem FIFA 20-Videospiel.\n",
    "Den kompletten Datensatz finden Sie auf [Kaggle](https://www.kaggle.com/stefanoleone992/fifa-20-complete-player-dataset).\n",
    "In der folgenden Zelle laden wir einen etwas reduzierten Datensatz aus dem Git-Repository des Kurses herunter und löschen daraus noch einige unnötige Spalten heraus."
   ]
  },
  {
   "cell_type": "code",
   "execution_count": null,
   "metadata": {},
   "outputs": [],
   "source": [
    "file = Path(\"./players_20.csv\")\n",
    "if not file.is_file():\n",
    "    wget.download(\"https://raw.githubusercontent.com/fh-swf-hgi/ml/main/p3/players_20.csv\")\n",
    "data = pd.read_csv(\"players_20.csv\", encoding = \"ISO-8859-1\")\n",
    "data.drop(['short_name','player_positions','player_url','contract_valid_until','team_jersey_number','nation_jersey_number'],axis=1,inplace=True)\n",
    "data.head()"
   ]
  },
  {
   "cell_type": "markdown",
   "metadata": {},
   "source": [
    "Viele der Operationen zur Datenvorverarbeitung kennen wir schon aus dem letzten Arbeitsblatt.\n",
    "Daher gehen wir hier nicht weiter darauf ein."
   ]
  },
  {
   "cell_type": "code",
   "execution_count": null,
   "metadata": {},
   "outputs": [],
   "source": [
    "data_work=data.copy()\n",
    "\n",
    "# Ausreißer herausfiltern\n",
    "s = 3*data_work.std() + data_work.mean()\n",
    "data_work = data[(data_work.gt(s, axis=1)).any(axis=1)==False].copy()\n",
    "\n",
    "data_work.info()"
   ]
  },
  {
   "cell_type": "code",
   "execution_count": null,
   "metadata": {},
   "outputs": [],
   "source": [
    "data_work.isnull().sum()"
   ]
  },
  {
   "cell_type": "code",
   "execution_count": null,
   "metadata": {},
   "outputs": [],
   "source": [
    "data_work.team_position.value_counts().index[0]"
   ]
  },
  {
   "cell_type": "markdown",
   "metadata": {},
   "source": [
    "Was wir beim letzten Blatt weniger betrachtet haben, ist der Umgang mit fehlenden Daten.\n",
    "In diesem Datensatz gibt es viele NaN Einträge.\n",
    "Würden wir alle Zeilen mit einem oder mehr NaN Einträgen löschen, blieben keine Zeilen übrig.\n",
    "Daher werden in diesem Datensatz die fehlenden Werte auffüllen.\n",
    "Dazu verwenden wir in der Regel die Mittelwerte der existierenden Daten in den einzelnen Spalten.\n",
    "\n",
    "Bei den kategorischen Attributen `team_position` und `nation_position` verwenden wir die an häufigsten vorkommenden Kategorie als *Lückenfüller*."
   ]
  },
  {
   "cell_type": "code",
   "execution_count": null,
   "metadata": {},
   "outputs": [],
   "source": [
    "data_work['gk_diving']=data_work.gk_diving.fillna(data_work.gk_diving.mean())\n",
    "data_work['gk_handling']=data_work.gk_handling.fillna(data_work.gk_handling.mean())\n",
    "data_work['gk_kicking']=data_work.gk_kicking.fillna(data_work.gk_kicking.mean())\n",
    "data_work['gk_reflexes']=data_work.gk_reflexes.fillna(data_work.gk_reflexes.mean())\n",
    "data_work['gk_speed']=data_work.gk_speed.fillna(data_work.gk_speed.mean())\n",
    "data_work['gk_positioning']=data_work.gk_positioning.fillna(data_work.gk_positioning.mean())\n",
    "data_work['pace']=data_work.pace.fillna(data_work.pace.mean())\n",
    "data_work['shooting']=data_work.shooting.fillna(data_work.shooting.mean())\n",
    "data_work['passing']=data_work.passing.fillna(data_work.passing.mean())\n",
    "data_work['defending']=data_work.defending.fillna(data_work.defending.mean())\n",
    "data_work['physic']=data_work.physic.fillna(data_work.physic.mean())\n",
    "data_work['dribbling']=data_work.dribbling.fillna(data_work.dribbling.mean())\n",
    "\n",
    "data_work['nation_position']=data_work.nation_position.fillna(data_work.nation_position.value_counts().index[0])\n",
    "data_work['team_position']=data_work.team_position.fillna(data_work.team_position.value_counts().index[0])\n",
    "\n",
    "data_work.isnull().sum()"
   ]
  },
  {
   "cell_type": "markdown",
   "metadata": {},
   "source": [
    "Wir selektieren nun die numerischen Attribute und standardisieren die Werte in den entsprechenden Spalten."
   ]
  },
  {
   "cell_type": "code",
   "execution_count": null,
   "metadata": {},
   "outputs": [],
   "source": [
    "# Selektiere die Spalten mit numerischen Datentypen (int64) in unserem Fall\n",
    "ncul = data_work.select_dtypes(['int64','float64']).columns\n",
    "\n",
    "# Standardisierung mit sklearn\n",
    "data_skstrd = scale(data_work[ncul])\n",
    "\n",
    "# updating our dataframe\n",
    "data_work[ncul] = data_skstrd\n",
    "\n",
    "data_work.describe()"
   ]
  },
  {
   "cell_type": "markdown",
   "metadata": {},
   "source": [
    "### Aufgabe 0: Datensätze vorbereiten\n",
    "Ihre erste Aufgabe ist es nun, zwei Varianten des Datensatzes für das Trainieren einer linearen Funktion vorzubereiten:\n",
    "1. Einen reduzierten Datensatz `data_reduced`, bei dem alle kategorischen Spalten aus dem ursprünglichen Datensatz `data_work` entfernt werden.\n",
    "2. Einen Datensatz `data_oh`, bei dem alle kategorischen merkmale per One-Hot Kodierung in numerische Merkmale überführt werden."
   ]
  },
  {
   "cell_type": "code",
   "execution_count": null,
   "metadata": {
    "deletable": false,
    "nbgrader": {
     "grade": false,
     "grade_id": "cell-57aa03d0cdffa8ef",
     "locked": false,
     "schema_version": 3,
     "solution": true,
     "task": false
    }
   },
   "outputs": [],
   "source": [
    "data_reduced = None\n",
    "data_oh = None\n",
    "\n",
    "# YOUR CODE HERE\n",
    "raise NotImplementedError()\n",
    "\n",
    "print(\"Spalten im reduzierten Datensatz:\", data_reduced.shape[1])\n",
    "print(\"Spalten im one-hot coded Datensatz:\", data_oh.shape[1])"
   ]
  },
  {
   "cell_type": "code",
   "execution_count": null,
   "metadata": {
    "deletable": false,
    "editable": false,
    "nbgrader": {
     "grade": true,
     "grade_id": "cell-bc9b3ddb1898c984",
     "locked": true,
     "points": 0,
     "schema_version": 3,
     "solution": false,
     "task": false
    }
   },
   "outputs": [],
   "source": [
    "assert data_reduced.shape[1]==19\n",
    "assert data_oh.shape[1]==940\n",
    "assert data_reduced.shape[0]==data_oh.shape[0]"
   ]
  },
  {
   "cell_type": "markdown",
   "metadata": {},
   "source": [
    "### Aufgabe 1: Trainieren eines linearen Modells mit `LinearRegression` (reduzierter Datansatz)\n",
    "\n",
    "Verwenden Sie in dieser Aufgabe den reduzierten Datensatz, um ein `LinearRegression` Modell zu Trainieren.\n",
    "Teilen Sie die Daten in 80% Trianings- und 20% Testadaten auf.\n",
    "Bewerten Sie das Modell, indem Sie den *Mittleren Absoluten Fehler* für die Testdaten berechnen."
   ]
  },
  {
   "cell_type": "code",
   "execution_count": null,
   "metadata": {
    "deletable": false,
    "nbgrader": {
     "grade": true,
     "grade_id": "cell-677b089eb76851b9",
     "locked": false,
     "points": 0,
     "schema_version": 3,
     "solution": true,
     "task": false
    }
   },
   "outputs": [],
   "source": [
    "    # YOUR CODE HERE\n",
    "    raise NotImplementedError()"
   ]
  },
  {
   "cell_type": "markdown",
   "metadata": {},
   "source": [
    "### Aufgabe 2: Trainieren eines linearen Modells mit `SGDRegressor` (reduzierter Datansatz)\n",
    "\n",
    "Verwenden Sie in dieser Aufgabe den reduzierten Datensatz, um ein `SGDRegressor` Modell zu Trainieren.\n",
    "Teilen Sie die Daten in 80% Trianings- und 20% Testadaten auf.\n",
    "Bewerten Sie das Modell, indem Sie den *Mittleren Absoluten Fehler* für die Testdaten berechnen."
   ]
  },
  {
   "cell_type": "code",
   "execution_count": null,
   "metadata": {
    "deletable": false,
    "nbgrader": {
     "grade": true,
     "grade_id": "cell-5dee28d7d86352e2",
     "locked": false,
     "points": 0,
     "schema_version": 3,
     "solution": true,
     "task": false
    }
   },
   "outputs": [],
   "source": [
    "# YOUR CODE HERE\n",
    "raise NotImplementedError()"
   ]
  },
  {
   "cell_type": "markdown",
   "metadata": {},
   "source": [
    "### Aufgabe 3: Trainieren eines linearen Modells mit `LinearRegression` (one-hot coded Features)\n",
    "\n",
    "Verwenden Sie in dieser Aufgabe den Datensatz mit den one-hot kodierten kategorischen Merkmalen, um ein `LinearRegression` Modell zu Trainieren.\n",
    "Teilen Sie die Daten in 80% Trianings- und 20% Testadaten auf.\n",
    "Bewerten Sie das Modell, indem Sie den *Mittleren Absoluten Fehler* für die Testdaten berechnen."
   ]
  },
  {
   "cell_type": "code",
   "execution_count": null,
   "metadata": {
    "deletable": false,
    "nbgrader": {
     "grade": true,
     "grade_id": "cell-919c78d288c54f87",
     "locked": false,
     "points": 0,
     "schema_version": 3,
     "solution": true,
     "task": false
    }
   },
   "outputs": [],
   "source": [
    "# YOUR CODE HERE\n",
    "raise NotImplementedError()"
   ]
  },
  {
   "cell_type": "markdown",
   "metadata": {},
   "source": [
    "### Aufgabe 4: Trainieren eines linearen Modells mit `SGDRegressor` (one-hot coded Features)\n",
    "\n",
    "Verwenden Sie in dieser Aufgabe den Datensatz mit den one-hot kodierten kategorischen Merkmalen, um ein SGDRegressor Modell zu Trainieren. Teilen Sie die Daten in 80% Trianings- und 20% Testadaten auf. Bewerten Sie das Modell, indem Sie den Mittleren Absoluten Fehler für die Testdaten berechnen."
   ]
  },
  {
   "cell_type": "code",
   "execution_count": null,
   "metadata": {
    "deletable": false,
    "nbgrader": {
     "grade": true,
     "grade_id": "cell-86155e7f49547689",
     "locked": false,
     "points": 0,
     "schema_version": 3,
     "solution": true,
     "task": false
    }
   },
   "outputs": [],
   "source": [
    "    # YOUR CODE HERE\n",
    "    raise NotImplementedError()"
   ]
  },
  {
   "cell_type": "markdown",
   "metadata": {},
   "source": [
    "### Aufgabe 5: Visualisieren Sie die Ergebnisse\n",
    "\n",
    "Visualisieren Sie die Fehlerraten der 4 Varianten mit einem Säulendiagramm."
   ]
  },
  {
   "cell_type": "code",
   "execution_count": null,
   "metadata": {
    "deletable": false,
    "nbgrader": {
     "grade": true,
     "grade_id": "cell-74079c43946a2a67",
     "locked": false,
     "points": 0,
     "schema_version": 3,
     "solution": true,
     "task": false
    }
   },
   "outputs": [],
   "source": [
    "import matplotlib.pyplot as plt\n",
    "\n",
    "# YOUR CODE HERE\n",
    "raise NotImplementedError()"
   ]
  },
  {
   "cell_type": "markdown",
   "metadata": {},
   "source": [
    "### Zusatzaufgabe: Bestimmen Sie die Laufzeiten für das Trainieren der Modellfunktionen\n",
    "\n",
    "Sie können dazu die *IPython Magic-Function* `timeit` wie im folgenden Beispiel verwenden."
   ]
  },
  {
   "cell_type": "code",
   "execution_count": null,
   "metadata": {},
   "outputs": [],
   "source": [
    "t = %timeit -o 0.934**7.353 ## beliebige Python-Anweisung nach dem \"\"-o\"\n",
    "t.average"
   ]
  }
 ],
 "metadata": {
  "kernelspec": {
   "display_name": "Python 3",
   "language": "python",
   "name": "python3"
  },
  "language_info": {
   "codemirror_mode": {
    "name": "ipython",
    "version": 3
   },
   "file_extension": ".py",
   "mimetype": "text/x-python",
   "name": "python",
   "nbconvert_exporter": "python",
   "pygments_lexer": "ipython3",
   "version": "3.7.6"
  }
 },
 "nbformat": 4,
 "nbformat_minor": 4
}
