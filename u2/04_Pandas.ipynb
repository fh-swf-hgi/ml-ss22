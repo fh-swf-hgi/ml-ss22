{
 "cells": [
  {
   "cell_type": "markdown",
   "metadata": {},
   "source": [
    "<figure>\n",
    "  <IMG SRC=\"https://upload.wikimedia.org/wikipedia/commons/thumb/d/d5/Fachhochschule_Südwestfalen_20xx_logo.svg/320px-Fachhochschule_Südwestfalen_20xx_logo.svg.png\" WIDTH=250 ALIGN=\"right\">\n",
    "</figure>\n",
    "\n",
    "# Machine Learning\n",
    "### Sommersemester 2021\n",
    "Prof. Dr. Heiner Giefers"
   ]
  },
  {
   "cell_type": "markdown",
   "metadata": {},
   "source": [
    "# Pandas\n",
    "Mit Beispielen von A. Geron [https://github.com/ageron/handson-ml]"
   ]
  },
  {
   "cell_type": "markdown",
   "metadata": {},
   "source": [
    "Pandas (*Python Data Analysis Library*) ist eine Python-Bibliothek zum Speichern, Manipulieren und Auswerten tabellarischer Daten. Die wichtigsten Datenstrukturen in Pandas sind `Series` und `DataFrame`. \n",
    "\n",
    "Eine `Series` ist eine Art Vektor (oder eindimensionale Liste) zum Speichern von Zeitreihen. Ein `Dataframe` ist eine zweidimensionale Tabelle bestehend aus Zeilen und Spalten. Daneben gibt es noch die dreidimensionale Datenstruktur `Panel`, die eine Reihe von Dataframe-Objekten beschreibt.\n",
    "\n",
    "Pandas unterstützt viele Funktionen, die aus Tabellenkalkulationen und Relationalen Datenbanken bekannt sind. Man kann Daten Selektieren, neue Spalten berechnen oder Daten als Graphen darstellen. Außerdem bietet die Bibliothek umfangreiche Funktionen zum Importtieren und Exportieren verschiedener Tabellen-Formate (CSV, Excel, HDF, SQL, JSON, HTML, ...). "
   ]
  },
  {
   "cell_type": "markdown",
   "metadata": {},
   "source": [
    "Normalerweise wird `pandas` über den Namensraum `pd` importiert."
   ]
  },
  {
   "cell_type": "code",
   "execution_count": 3,
   "metadata": {},
   "outputs": [],
   "source": [
    "import pandas as pd"
   ]
  },
  {
   "cell_type": "markdown",
   "metadata": {},
   "source": [
    "## Reihen mit `Series`\n",
    "\n",
    "Ein `Series`-Objekt wird aus einer eindimensionalen Struktur erzeugt und kann verschiedene Daten-Typen (`int`, `double`, `str`, oder andere Objekte) aufnehmen.\n",
    "Eine `Series` besteht immer aus Index-Wert Paaren, die Indizes nennt man auch *Label*."
   ]
  },
  {
   "cell_type": "code",
   "execution_count": 4,
   "metadata": {},
   "outputs": [
    {
     "name": "stdout",
     "output_type": "stream",
     "text": [
      "0    2\n",
      "1   -1\n",
      "2    3\n",
      "3    5\n",
      "dtype: int64\n"
     ]
    }
   ],
   "source": [
    "s = pd.Series([2,-1,3,5])\n",
    "print(s)"
   ]
  },
  {
   "cell_type": "markdown",
   "metadata": {},
   "source": [
    "Die Daten in einem `Series`-Objekte sind alle vom gleichen Typ.\n",
    "Wenn wir die Reihe `s` wie oben mit einem `double`-Element anlegen, so wird dieser, allgemeinere Typ für alle Elemente gewählt."
   ]
  },
  {
   "cell_type": "code",
   "execution_count": 5,
   "metadata": {},
   "outputs": [
    {
     "name": "stdout",
     "output_type": "stream",
     "text": [
      "0    2.0\n",
      "1   -1.0\n",
      "2    3.0\n",
      "3    5.0\n",
      "dtype: float64\n"
     ]
    }
   ],
   "source": [
    "s = pd.Series([2.0,-1,3,5])\n",
    "print(s)"
   ]
  },
  {
   "cell_type": "markdown",
   "metadata": {},
   "source": [
    "`Series`-Objekte sind ähnlich zu `ndarrays` und können auch in NumPy-Funktionen genutzt werden."
   ]
  },
  {
   "cell_type": "code",
   "execution_count": 6,
   "metadata": {},
   "outputs": [
    {
     "name": "stdout",
     "output_type": "stream",
     "text": [
      "0     4.0\n",
      "1     1.0\n",
      "2     9.0\n",
      "3    25.0\n",
      "dtype: float64\n",
      "<class 'pandas.core.series.Series'>\n"
     ]
    }
   ],
   "source": [
    "import numpy as np\n",
    "n = np.power(s,2)\n",
    "print(n)\n",
    "print(type(n))"
   ]
  },
  {
   "cell_type": "markdown",
   "metadata": {},
   "source": [
    "Arithmetische Operationen auf `Series`-Objekte funktionieren auch wie Operationen auf `ndarray`."
   ]
  },
  {
   "cell_type": "code",
   "execution_count": 7,
   "metadata": {},
   "outputs": [
    {
     "name": "stdout",
     "output_type": "stream",
     "text": [
      "x[0] = 12.0 \t y[0] = 1002.0 \t z[0] = False\n",
      "x[1] = 19.0 \t y[1] = 999.0 \t z[1] = True\n",
      "x[2] = 33.0 \t y[2] = 1003.0 \t z[2] = False\n",
      "x[3] = 45.0 \t y[3] = 1005.0 \t z[3] = False\n"
     ]
    }
   ],
   "source": [
    "x = s + [10,20,30,40]\n",
    "y = s + 1000\n",
    "z = s < 0\n",
    "for i in range(0,len(s)):  \n",
    "    print(\"x[%d] = %s \\t y[%d] = %s \\t z[%d] = %s\" %(i, x[i], i, y[i], i, z[i]) )\n"
   ]
  },
  {
   "cell_type": "markdown",
   "metadata": {},
   "source": [
    "In der obigen Code-Zelle ist `i` ein Laufvariable, die die Indizes der Zeilen angibt. `len(s)` liefert die Länge eines sequentiellen Datentyps und ist in diesem Fall gleich 4. `range(0,4)` liefert eine iterierbare Sequenz von 0 bis 4 (ausschließlich), also `0, 1, 2, 3`. Über diese Indizes kann man natürlich auch auf die einzelnen Elemente der `Series` zugreifen.\n",
    "\n",
    "Die gleiche Folge von Indizes kann man auch (ohne die `range`-Funktion) direkt über die `Series` erhalten. Der Funktionsaufruf dazu lautet `s.index.values.tolist()`, wobei `s` der Name der `Series` ist."
   ]
  },
  {
   "cell_type": "markdown",
   "metadata": {},
   "source": [
    "### Index Label\n",
    "\n",
    "Wir haben gerade gesehen, dass wir einzelne Elemente einer `Series` über einen Index ansprechen können. Im Standardfall ist, dass einfach die Position des Elements beginnend mit dem Index 0. Man kann aber auch eigene *Index Label* definieren. Diese definierten Label müssen auch keineswegs vom Typ `int` sein."
   ]
  },
  {
   "cell_type": "code",
   "execution_count": 8,
   "metadata": {},
   "outputs": [
    {
     "name": "stdout",
     "output_type": "stream",
     "text": [
      "Alice    27\n",
      "Bob      21\n",
      "Carol    35\n",
      "dtype: int64\n",
      "Bob hat 21 Punkte.\n"
     ]
    }
   ],
   "source": [
    "s = pd.Series([27, 21, 35], index=[\"Alice\", \"Bob\", \"Carol\"])\n",
    "print(s)\n",
    "print(\"Bob hat %d Punkte.\" % s[\"Bob\"])"
   ]
  },
  {
   "cell_type": "markdown",
   "metadata": {},
   "source": [
    "Der Zugriff über die Position funktioniert dann sogar immer noch:"
   ]
  },
  {
   "cell_type": "code",
   "execution_count": 9,
   "metadata": {},
   "outputs": [
    {
     "name": "stdout",
     "output_type": "stream",
     "text": [
      "Bob hat 21 Punkte.\n"
     ]
    }
   ],
   "source": [
    "print(\"Bob hat %d Punkte.\" % s[1])"
   ]
  },
  {
   "cell_type": "markdown",
   "metadata": {},
   "source": [
    "Anstatt die Funktion `pd.Series()` mit dem Parameter `index`  aufzurufen, kann man die `Series` auch direkt aus einem Dictionary (Wörterbuch) erstellen. Die Schlüssel werden dabei zu *Labels*, die Werte bilden die Datenreihe:"
   ]
  },
  {
   "cell_type": "code",
   "execution_count": 10,
   "metadata": {},
   "outputs": [
    {
     "data": {
      "text/plain": [
       "Alice    25\n",
       "Bob      21\n",
       "Carol    35\n",
       "dtype: int64"
      ]
     },
     "execution_count": 10,
     "metadata": {},
     "output_type": "execute_result"
    }
   ],
   "source": [
    "s = pd.Series({\"Alice\" : 25, \"Bob\" : 21, \"Carol\" : 35})\n",
    "s"
   ]
  },
  {
   "cell_type": "markdown",
   "metadata": {},
   "source": [
    "### Automatische Verknüpfungen\n",
    "\n",
    "Wenn man mehrere `Series`-Objekte über Operationen verknüpft, so werden die Daten entsprechend ihrer Labels ausgerichtet. Im folgenden Beispiel erzeugen wir eine neue `Series` *pluspunkte*, in der die Labels *Alice* und *Bob* (in anderer Reihenfolge) auftauchen. *Carol* ist nicht in der neuen Liste, dafür aber *Dave* und *Eve*.\n",
    "\n",
    "Wenn wir nun die `+`-Operation auf den beiden `Series` ausführen, enthält das Resultat `neueSeries` alle Einträge der beiden anderen Listen. Für diejenigen Einträge, die in beiden `Series` auftreten, wird die `+`-Operation sinnvoll ausgeführt. Alle weiteren Einträge werden zwar aufgenommen, der Wert der Operation ist aber `NaN` (*Not a Number*).\n",
    "\n",
    "`NaN` als Ergebnis mag zwar unschön wirken, ist aber durchaus ein sinnvolles Resultat. Stellen Sie sich vor, fehlende Einträge würde als Wert `0` angenommen. Dies könnte zu Ergebnissen führen, die für die Anwendung gar nicht korrekt sind. Außerdem würden dann in der `Series` lauter Werte stehen und es wäre nicht so einfach ersichtlich, bei welchen Einträgen die Datensätze unvollständig waren."
   ]
  },
  {
   "cell_type": "code",
   "execution_count": 11,
   "metadata": {},
   "outputs": [
    {
     "name": "stdout",
     "output_type": "stream",
     "text": [
      "Alice    25\n",
      "Bob      21\n",
      "Carol    35\n",
      "dtype: int64\n",
      "Bob       1\n",
      "Alice     5\n",
      "Dave     15\n",
      "Eve       3\n",
      "dtype: int64\n",
      "Alice    30.0\n",
      "Bob      22.0\n",
      "Carol     NaN\n",
      "Dave      NaN\n",
      "Eve       NaN\n",
      "dtype: float64\n"
     ]
    }
   ],
   "source": [
    "pluspunkte = pd.Series({\"Bob\" : 1, \"Alice\" : 5, \"Dave\" : 15, \"Eve\" : 3})\n",
    "print(s)\n",
    "print(pluspunkte)\n",
    "neueSeries = s + pluspunkte\n",
    "print(neueSeries)"
   ]
  },
  {
   "cell_type": "markdown",
   "metadata": {},
   "source": [
    "##  Tabellen mit `DataFrame`\n",
    "\n",
    "Ein `DataFrame` Objekt ist eine zweidimensionale Tabelle. Die Zeilen, wie auch die Spalten sind benannt, auch hier heißen die Namen *Label*. Jede Spalte eines `DataFrame` ist dabei im Wesentlichen `Series`-Objekt. Man kann ein `DataFrame`Objekt z.B. aus einem Dictionary von `Series`-Objekten erzeugen:"
   ]
  },
  {
   "cell_type": "code",
   "execution_count": 14,
   "metadata": {},
   "outputs": [
    {
     "data": {
      "text/html": [
       "<div>\n",
       "<style scoped>\n",
       "    .dataframe tbody tr th:only-of-type {\n",
       "        vertical-align: middle;\n",
       "    }\n",
       "\n",
       "    .dataframe tbody tr th {\n",
       "        vertical-align: top;\n",
       "    }\n",
       "\n",
       "    .dataframe thead th {\n",
       "        text-align: right;\n",
       "    }\n",
       "</style>\n",
       "<table border=\"1\" class=\"dataframe\">\n",
       "  <thead>\n",
       "    <tr style=\"text-align: right;\">\n",
       "      <th></th>\n",
       "      <th>Bonuspunkte</th>\n",
       "      <th>Matrikelnummern</th>\n",
       "      <th>Pluspunkte</th>\n",
       "    </tr>\n",
       "  </thead>\n",
       "  <tbody>\n",
       "    <tr>\n",
       "      <th>Alice</th>\n",
       "      <td>27.0</td>\n",
       "      <td>833421</td>\n",
       "      <td>5.0</td>\n",
       "    </tr>\n",
       "    <tr>\n",
       "      <th>Bob</th>\n",
       "      <td>21.0</td>\n",
       "      <td>831473</td>\n",
       "      <td>1.0</td>\n",
       "    </tr>\n",
       "    <tr>\n",
       "      <th>Carol</th>\n",
       "      <td>35.0</td>\n",
       "      <td>700326</td>\n",
       "      <td>NaN</td>\n",
       "    </tr>\n",
       "    <tr>\n",
       "      <th>Dave</th>\n",
       "      <td>NaN</td>\n",
       "      <td>833711</td>\n",
       "      <td>15.0</td>\n",
       "    </tr>\n",
       "    <tr>\n",
       "      <th>Eve</th>\n",
       "      <td>NaN</td>\n",
       "      <td>831612</td>\n",
       "      <td>3.0</td>\n",
       "    </tr>\n",
       "  </tbody>\n",
       "</table>\n",
       "</div>"
      ],
      "text/plain": [
       "       Bonuspunkte  Matrikelnummern  Pluspunkte\n",
       "Alice         27.0           833421         5.0\n",
       "Bob           21.0           831473         1.0\n",
       "Carol         35.0           700326         NaN\n",
       "Dave           NaN           833711        15.0\n",
       "Eve            NaN           831612         3.0"
      ]
     },
     "execution_count": 14,
     "metadata": {},
     "output_type": "execute_result"
    }
   ],
   "source": [
    "namen=[\"Alice\", \"Bob\", \"Carol\", \"Dave\", \"Eve\"]\n",
    "punkte = pd.Series([27, 21, 35], index=namen[0:3])\n",
    "matnr =  pd.Series([833421, 831473, 700326, 833711, 831612], index=namen)\n",
    "pluspunkte = pd.Series({\"Bob\" : 1, \"Alice\" : 5, \"Dave\" : 15, \"Eve\" : 3})\n",
    "\n",
    "\n",
    "stud_dictionary = {\n",
    "    \"Bonuspunkte\": punkte,\n",
    "    \"Matrikelnummern\": matnr,\n",
    "    \"Pluspunkte\": pluspunkte\n",
    "}\n",
    "stud = pd.DataFrame(stud_dictionary)\n",
    "stud"
   ]
  },
  {
   "cell_type": "markdown",
   "metadata": {},
   "source": [
    "Auf einzelne Spalten des `DataFrame`-Objekts greift man wie bei einem Dictionary über den Namen der Spalte zu."
   ]
  },
  {
   "cell_type": "code",
   "execution_count": 15,
   "metadata": {},
   "outputs": [
    {
     "data": {
      "text/plain": [
       "Alice    833421\n",
       "Bob      831473\n",
       "Carol    700326\n",
       "Dave     833711\n",
       "Eve      831612\n",
       "Name: Matrikelnummern, dtype: int64"
      ]
     },
     "execution_count": 15,
     "metadata": {},
     "output_type": "execute_result"
    }
   ],
   "source": [
    "stud[\"Matrikelnummern\"]"
   ]
  },
  {
   "cell_type": "markdown",
   "metadata": {},
   "source": [
    "Es können auch mehrere Spalten ausgewählt werden. Dann müssen die Spaltennamen als Liste übergeben werden."
   ]
  },
  {
   "cell_type": "code",
   "execution_count": 16,
   "metadata": {},
   "outputs": [
    {
     "data": {
      "text/html": [
       "<div>\n",
       "<style scoped>\n",
       "    .dataframe tbody tr th:only-of-type {\n",
       "        vertical-align: middle;\n",
       "    }\n",
       "\n",
       "    .dataframe tbody tr th {\n",
       "        vertical-align: top;\n",
       "    }\n",
       "\n",
       "    .dataframe thead th {\n",
       "        text-align: right;\n",
       "    }\n",
       "</style>\n",
       "<table border=\"1\" class=\"dataframe\">\n",
       "  <thead>\n",
       "    <tr style=\"text-align: right;\">\n",
       "      <th></th>\n",
       "      <th>Matrikelnummern</th>\n",
       "      <th>Bonuspunkte</th>\n",
       "    </tr>\n",
       "  </thead>\n",
       "  <tbody>\n",
       "    <tr>\n",
       "      <th>Alice</th>\n",
       "      <td>833421</td>\n",
       "      <td>27.0</td>\n",
       "    </tr>\n",
       "    <tr>\n",
       "      <th>Bob</th>\n",
       "      <td>831473</td>\n",
       "      <td>21.0</td>\n",
       "    </tr>\n",
       "    <tr>\n",
       "      <th>Carol</th>\n",
       "      <td>700326</td>\n",
       "      <td>35.0</td>\n",
       "    </tr>\n",
       "    <tr>\n",
       "      <th>Dave</th>\n",
       "      <td>833711</td>\n",
       "      <td>NaN</td>\n",
       "    </tr>\n",
       "    <tr>\n",
       "      <th>Eve</th>\n",
       "      <td>831612</td>\n",
       "      <td>NaN</td>\n",
       "    </tr>\n",
       "  </tbody>\n",
       "</table>\n",
       "</div>"
      ],
      "text/plain": [
       "       Matrikelnummern  Bonuspunkte\n",
       "Alice           833421         27.0\n",
       "Bob             831473         21.0\n",
       "Carol           700326         35.0\n",
       "Dave            833711          NaN\n",
       "Eve             831612          NaN"
      ]
     },
     "execution_count": 16,
     "metadata": {},
     "output_type": "execute_result"
    }
   ],
   "source": [
    "stud[[\"Matrikelnummern\", \"Bonuspunkte\"]]"
   ]
  },
  {
   "cell_type": "markdown",
   "metadata": {},
   "source": [
    "Auf die Daten für einzelne Zeilen der Tabelle greift man über das Attribut `loc` zu."
   ]
  },
  {
   "cell_type": "code",
   "execution_count": 17,
   "metadata": {},
   "outputs": [
    {
     "data": {
      "text/plain": [
       "Bonuspunkte            21.0\n",
       "Matrikelnummern    831473.0\n",
       "Pluspunkte              1.0\n",
       "Name: Bob, dtype: float64"
      ]
     },
     "execution_count": 17,
     "metadata": {},
     "output_type": "execute_result"
    }
   ],
   "source": [
    "stud.loc[\"Bob\"]"
   ]
  },
  {
   "cell_type": "markdown",
   "metadata": {},
   "source": [
    "`DataFrames` können auch direkt aus zweidimensionalen NumPy Arrays erzeugt werden. Im folgenden Beispiel wird ein `ndarray` mit Geburtsjahren, Matrikelnummern und Studiengangsnamen von Personen angelegt. Aus diesem Array `p` wird dann ein `DataFrame` erzeugt. Dazu wird `p` transponiert und mit Spalten- (`columns`) und Zeilen-Labels (`index`) versehen. Fehlende Werte im Array können z.B. mit `np.nan` angelegt werden."
   ]
  },
  {
   "cell_type": "code",
   "execution_count": 18,
   "metadata": {},
   "outputs": [
    {
     "data": {
      "text/html": [
       "<div>\n",
       "<style scoped>\n",
       "    .dataframe tbody tr th:only-of-type {\n",
       "        vertical-align: middle;\n",
       "    }\n",
       "\n",
       "    .dataframe tbody tr th {\n",
       "        vertical-align: top;\n",
       "    }\n",
       "\n",
       "    .dataframe thead th {\n",
       "        text-align: right;\n",
       "    }\n",
       "</style>\n",
       "<table border=\"1\" class=\"dataframe\">\n",
       "  <thead>\n",
       "    <tr style=\"text-align: right;\">\n",
       "      <th></th>\n",
       "      <th>Geburtsjahr</th>\n",
       "      <th>Matrikelnummer</th>\n",
       "      <th>Studiengang</th>\n",
       "    </tr>\n",
       "  </thead>\n",
       "  <tbody>\n",
       "    <tr>\n",
       "      <th>Alice</th>\n",
       "      <td>1995</td>\n",
       "      <td>833421</td>\n",
       "      <td>Info</td>\n",
       "    </tr>\n",
       "    <tr>\n",
       "      <th>Bob</th>\n",
       "      <td>1992</td>\n",
       "      <td>831473</td>\n",
       "      <td>MBau</td>\n",
       "    </tr>\n",
       "    <tr>\n",
       "      <th>Carol</th>\n",
       "      <td>1988</td>\n",
       "      <td>700326</td>\n",
       "      <td>Info</td>\n",
       "    </tr>\n",
       "    <tr>\n",
       "      <th>Dave</th>\n",
       "      <td>2001</td>\n",
       "      <td>0</td>\n",
       "      <td>ETech</td>\n",
       "    </tr>\n",
       "    <tr>\n",
       "      <th>Eve</th>\n",
       "      <td>1999</td>\n",
       "      <td>831612</td>\n",
       "      <td>Info</td>\n",
       "    </tr>\n",
       "  </tbody>\n",
       "</table>\n",
       "</div>"
      ],
      "text/plain": [
       "      Geburtsjahr Matrikelnummer Studiengang\n",
       "Alice        1995         833421        Info\n",
       "Bob          1992         831473        MBau\n",
       "Carol        1988         700326        Info\n",
       "Dave         2001              0       ETech\n",
       "Eve          1999         831612        Info"
      ]
     },
     "execution_count": 18,
     "metadata": {},
     "output_type": "execute_result"
    }
   ],
   "source": [
    "import numpy as np\n",
    "p = np.array([[1995, 1992, 1988, 2001, 1999], \n",
    "     [833421, 831473, 700326, 0, 831612],\n",
    "     [\"Info\", \"MBau\", \"Info\", \"ETech\", \"Info\"]\n",
    "    ])\n",
    "\n",
    "namen=[\"Alice\", \"Bob\", \"Carol\", \"Dave\", \"Eve\"]\n",
    "\n",
    "personen = pd.DataFrame(\n",
    "    p.T,\n",
    "    columns=[\"Geburtsjahr\", \"Matrikelnummer\", \"Studiengang\"],\n",
    "    index=namen\n",
    "    )\n",
    "personen"
   ]
  },
  {
   "cell_type": "markdown",
   "metadata": {},
   "source": [
    "Manchmal ist es hilfreich, die Spalten einer Tabelle in weitere Klassen zu unterteilten. Dies geht mit sogenannten *Multilabels*. Im folgenden Beispiel legen wir die den obigen `DataFrame` erneut an. Nun geben aber nun statt der Spaltennamen, Tupel, bestehend aus Klassenname und Spaltenname, an. Die Funktion `pd.MultiIndex.from_tuples()` generiert daraus hierarchische Spaltenbezeichnungen."
   ]
  },
  {
   "cell_type": "code",
   "execution_count": 19,
   "metadata": {},
   "outputs": [
    {
     "data": {
      "text/html": [
       "<div>\n",
       "<style scoped>\n",
       "    .dataframe tbody tr th:only-of-type {\n",
       "        vertical-align: middle;\n",
       "    }\n",
       "\n",
       "    .dataframe tbody tr th {\n",
       "        vertical-align: top;\n",
       "    }\n",
       "\n",
       "    .dataframe thead tr th {\n",
       "        text-align: left;\n",
       "    }\n",
       "</style>\n",
       "<table border=\"1\" class=\"dataframe\">\n",
       "  <thead>\n",
       "    <tr>\n",
       "      <th></th>\n",
       "      <th>persoenlich</th>\n",
       "      <th colspan=\"2\" halign=\"left\">verwaltung</th>\n",
       "    </tr>\n",
       "    <tr>\n",
       "      <th></th>\n",
       "      <th>Geburtsjahr</th>\n",
       "      <th>Matrikelnummer</th>\n",
       "      <th>Studiengang</th>\n",
       "    </tr>\n",
       "  </thead>\n",
       "  <tbody>\n",
       "    <tr>\n",
       "      <th>Alice</th>\n",
       "      <td>1995</td>\n",
       "      <td>833421</td>\n",
       "      <td>Info</td>\n",
       "    </tr>\n",
       "    <tr>\n",
       "      <th>Bob</th>\n",
       "      <td>1992</td>\n",
       "      <td>831473</td>\n",
       "      <td>MBau</td>\n",
       "    </tr>\n",
       "    <tr>\n",
       "      <th>Carol</th>\n",
       "      <td>1988</td>\n",
       "      <td>700326</td>\n",
       "      <td>Info</td>\n",
       "    </tr>\n",
       "    <tr>\n",
       "      <th>Dave</th>\n",
       "      <td>2001</td>\n",
       "      <td>0</td>\n",
       "      <td>ETech</td>\n",
       "    </tr>\n",
       "    <tr>\n",
       "      <th>Eve</th>\n",
       "      <td>1999</td>\n",
       "      <td>831612</td>\n",
       "      <td>Info</td>\n",
       "    </tr>\n",
       "  </tbody>\n",
       "</table>\n",
       "</div>"
      ],
      "text/plain": [
       "      persoenlich     verwaltung            \n",
       "      Geburtsjahr Matrikelnummer Studiengang\n",
       "Alice        1995         833421        Info\n",
       "Bob          1992         831473        MBau\n",
       "Carol        1988         700326        Info\n",
       "Dave         2001              0       ETech\n",
       "Eve          1999         831612        Info"
      ]
     },
     "execution_count": 19,
     "metadata": {},
     "output_type": "execute_result"
    }
   ],
   "source": [
    "personen_mult = pd.DataFrame(\n",
    "    p.T,\n",
    "    columns=pd.MultiIndex.from_tuples(\n",
    "        [(\"persoenlich\", \"Geburtsjahr\"), (\"verwaltung\",\"Matrikelnummer\"), (\"verwaltung\",\"Studiengang\")]\n",
    "    ),\n",
    "    index=namen\n",
    "    )\n",
    "personen_mult"
   ]
  },
  {
   "cell_type": "markdown",
   "metadata": {},
   "source": [
    "Wenn wir nun auf eine bestimmte Klasse der Spalten zugreifen wollen, geht das einfach über den Klassennamen:"
   ]
  },
  {
   "cell_type": "code",
   "execution_count": 20,
   "metadata": {},
   "outputs": [
    {
     "data": {
      "text/html": [
       "<div>\n",
       "<style scoped>\n",
       "    .dataframe tbody tr th:only-of-type {\n",
       "        vertical-align: middle;\n",
       "    }\n",
       "\n",
       "    .dataframe tbody tr th {\n",
       "        vertical-align: top;\n",
       "    }\n",
       "\n",
       "    .dataframe thead th {\n",
       "        text-align: right;\n",
       "    }\n",
       "</style>\n",
       "<table border=\"1\" class=\"dataframe\">\n",
       "  <thead>\n",
       "    <tr style=\"text-align: right;\">\n",
       "      <th></th>\n",
       "      <th>Matrikelnummer</th>\n",
       "      <th>Studiengang</th>\n",
       "    </tr>\n",
       "  </thead>\n",
       "  <tbody>\n",
       "    <tr>\n",
       "      <th>Alice</th>\n",
       "      <td>833421</td>\n",
       "      <td>Info</td>\n",
       "    </tr>\n",
       "    <tr>\n",
       "      <th>Bob</th>\n",
       "      <td>831473</td>\n",
       "      <td>MBau</td>\n",
       "    </tr>\n",
       "    <tr>\n",
       "      <th>Carol</th>\n",
       "      <td>700326</td>\n",
       "      <td>Info</td>\n",
       "    </tr>\n",
       "    <tr>\n",
       "      <th>Dave</th>\n",
       "      <td>0</td>\n",
       "      <td>ETech</td>\n",
       "    </tr>\n",
       "    <tr>\n",
       "      <th>Eve</th>\n",
       "      <td>831612</td>\n",
       "      <td>Info</td>\n",
       "    </tr>\n",
       "  </tbody>\n",
       "</table>\n",
       "</div>"
      ],
      "text/plain": [
       "      Matrikelnummer Studiengang\n",
       "Alice         833421        Info\n",
       "Bob           831473        MBau\n",
       "Carol         700326        Info\n",
       "Dave               0       ETech\n",
       "Eve           831612        Info"
      ]
     },
     "execution_count": 20,
     "metadata": {},
     "output_type": "execute_result"
    }
   ],
   "source": [
    "personen_mult[\"verwaltung\"]"
   ]
  },
  {
   "cell_type": "markdown",
   "metadata": {},
   "source": [
    "Einzelne Spalten können nun über die Angabe der beiden Labels ausgewählt werden."
   ]
  },
  {
   "cell_type": "code",
   "execution_count": 21,
   "metadata": {},
   "outputs": [
    {
     "data": {
      "text/plain": [
       "Alice    833421\n",
       "Bob      831473\n",
       "Carol    700326\n",
       "Dave          0\n",
       "Eve      831612\n",
       "Name: (verwaltung, Matrikelnummer), dtype: object"
      ]
     },
     "execution_count": 21,
     "metadata": {},
     "output_type": "execute_result"
    }
   ],
   "source": [
    "personen_mult[\"verwaltung\",\"Matrikelnummer\"]"
   ]
  },
  {
   "cell_type": "markdown",
   "metadata": {},
   "source": [
    "### DataFrames Speicher und Laden"
   ]
  },
  {
   "cell_type": "markdown",
   "metadata": {},
   "source": [
    "Wir haben in diesen Abschnitt nur betrachtet, wie man DataFrames aus Listen oder NumPy Arrays erstellt. Der gebräuchlichste Weg aber, um `DataFrame`-Objekte zu erzeugen, ist das Laden von Daten aus einer Datei. Ein verbreitetes Tabellenformat ist CSV (*Comma Separated Values*). CSV-Dateien können wie folgt in einen `DataFrame` eingelesen werden:\n",
    "\n",
    "```python\n",
    "neuer_df = pd.read_csv(\"Tabelle.csv\", index_col=0)\n",
    "```\n",
    "\n",
    "In diesem Beispiel weisen wir die `read_csv`-Methode an, die erste Spalte der Tabelle als Indexlabel zu verwenden.\n",
    "Um die Spaltennamen zu setzen, können sie einen Parameter `header` auf die Nummer der Zeile setzen, in der die Tabelle die Namen der Spalten trägt.\n",
    "Setzen Sie `header=infer`, so sucht Pandas automatisch nach einer passenden Zeile mit Spaltennamen.\n",
    "\n",
    "Ähnliche Methoden existieren auch für das Exportieren von DataFrames. Darüber hinaus werden noch viele andere Formate außer CSV unterstützt."
   ]
  },
  {
   "cell_type": "markdown",
   "metadata": {},
   "source": [
    "```python\n",
    "neuer_df.to_csv(\"MeinDataFrame.csv\")\n",
    "neuer_df.to_html(\"MeinDataFrame.html\")\n",
    "neuer_df.to_json(\"MeinDataFrame.json\")\n",
    "```"
   ]
  },
  {
   "cell_type": "markdown",
   "metadata": {},
   "source": [
    "### DataFrames verändern\n",
    "\n",
    "`DataFrames`  können wie NumPy Arrays mit dem `T`-Attribut transponiert werden:"
   ]
  },
  {
   "cell_type": "code",
   "execution_count": 24,
   "metadata": {},
   "outputs": [
    {
     "data": {
      "text/html": [
       "<div>\n",
       "<style scoped>\n",
       "    .dataframe tbody tr th:only-of-type {\n",
       "        vertical-align: middle;\n",
       "    }\n",
       "\n",
       "    .dataframe tbody tr th {\n",
       "        vertical-align: top;\n",
       "    }\n",
       "\n",
       "    .dataframe thead th {\n",
       "        text-align: right;\n",
       "    }\n",
       "</style>\n",
       "<table border=\"1\" class=\"dataframe\">\n",
       "  <thead>\n",
       "    <tr style=\"text-align: right;\">\n",
       "      <th></th>\n",
       "      <th></th>\n",
       "      <th>Alice</th>\n",
       "      <th>Bob</th>\n",
       "      <th>Carol</th>\n",
       "      <th>Dave</th>\n",
       "      <th>Eve</th>\n",
       "    </tr>\n",
       "  </thead>\n",
       "  <tbody>\n",
       "    <tr>\n",
       "      <th>persoenlich</th>\n",
       "      <th>Geburtsjahr</th>\n",
       "      <td>1995</td>\n",
       "      <td>1992</td>\n",
       "      <td>1988</td>\n",
       "      <td>2001</td>\n",
       "      <td>1999</td>\n",
       "    </tr>\n",
       "    <tr>\n",
       "      <th rowspan=\"2\" valign=\"top\">verwaltung</th>\n",
       "      <th>Matrikelnummer</th>\n",
       "      <td>833421</td>\n",
       "      <td>831473</td>\n",
       "      <td>700326</td>\n",
       "      <td>0</td>\n",
       "      <td>831612</td>\n",
       "    </tr>\n",
       "    <tr>\n",
       "      <th>Studiengang</th>\n",
       "      <td>Info</td>\n",
       "      <td>MBau</td>\n",
       "      <td>Info</td>\n",
       "      <td>ETech</td>\n",
       "      <td>Info</td>\n",
       "    </tr>\n",
       "  </tbody>\n",
       "</table>\n",
       "</div>"
      ],
      "text/plain": [
       "                             Alice     Bob   Carol   Dave     Eve\n",
       "persoenlich Geburtsjahr       1995    1992    1988   2001    1999\n",
       "verwaltung  Matrikelnummer  833421  831473  700326      0  831612\n",
       "            Studiengang       Info    MBau    Info  ETech    Info"
      ]
     },
     "execution_count": 24,
     "metadata": {},
     "output_type": "execute_result"
    }
   ],
   "source": [
    "eintraege = personen_mult.T\n",
    "eintraege"
   ]
  },
  {
   "cell_type": "markdown",
   "metadata": {},
   "source": [
    "Spalten können einfach mit den `del`-Operator aus dem `DataFrame` gelöscht werden. Im folgenden Beispiel erzeugen wir zuerst eine Kopie des `DataFrame`-Objekts mit der `copy`-Methode Beachten Sie, dass eine einfache Zuweisung an dieser Stelle nicht genügt, um einen neuen `DataFrame` zu erzeugen. Der Ausdruck `eintraege_tmp = eintraege` würde nur eine Referenz `eintraege_tmp` für das gleiche Objekt erstellen. Änderungen an `eintraege_tmp` würden dann ebenso das Objekt `eintraege` betreffen."
   ]
  },
  {
   "cell_type": "code",
   "execution_count": 25,
   "metadata": {},
   "outputs": [
    {
     "data": {
      "text/html": [
       "<div>\n",
       "<style scoped>\n",
       "    .dataframe tbody tr th:only-of-type {\n",
       "        vertical-align: middle;\n",
       "    }\n",
       "\n",
       "    .dataframe tbody tr th {\n",
       "        vertical-align: top;\n",
       "    }\n",
       "\n",
       "    .dataframe thead th {\n",
       "        text-align: right;\n",
       "    }\n",
       "</style>\n",
       "<table border=\"1\" class=\"dataframe\">\n",
       "  <thead>\n",
       "    <tr style=\"text-align: right;\">\n",
       "      <th></th>\n",
       "      <th></th>\n",
       "      <th>Alice</th>\n",
       "      <th>Bob</th>\n",
       "      <th>Carol</th>\n",
       "      <th>Eve</th>\n",
       "    </tr>\n",
       "  </thead>\n",
       "  <tbody>\n",
       "    <tr>\n",
       "      <th>persoenlich</th>\n",
       "      <th>Geburtsjahr</th>\n",
       "      <td>1995</td>\n",
       "      <td>1992</td>\n",
       "      <td>1988</td>\n",
       "      <td>1999</td>\n",
       "    </tr>\n",
       "    <tr>\n",
       "      <th rowspan=\"2\" valign=\"top\">verwaltung</th>\n",
       "      <th>Matrikelnummer</th>\n",
       "      <td>833421</td>\n",
       "      <td>831473</td>\n",
       "      <td>700326</td>\n",
       "      <td>831612</td>\n",
       "    </tr>\n",
       "    <tr>\n",
       "      <th>Studiengang</th>\n",
       "      <td>Info</td>\n",
       "      <td>MBau</td>\n",
       "      <td>Info</td>\n",
       "      <td>Info</td>\n",
       "    </tr>\n",
       "  </tbody>\n",
       "</table>\n",
       "</div>"
      ],
      "text/plain": [
       "                             Alice     Bob   Carol     Eve\n",
       "persoenlich Geburtsjahr       1995    1992    1988    1999\n",
       "verwaltung  Matrikelnummer  833421  831473  700326  831612\n",
       "            Studiengang       Info    MBau    Info    Info"
      ]
     },
     "execution_count": 25,
     "metadata": {},
     "output_type": "execute_result"
    }
   ],
   "source": [
    "eintraege_tmp = eintraege.copy(deep=True)\n",
    "del eintraege_tmp[\"Dave\"]\n",
    "eintraege_tmp"
   ]
  },
  {
   "cell_type": "markdown",
   "metadata": {},
   "source": [
    "Neue Spalten hinzufügen, kann man mit der Methode `insert()`.\n",
    "Der erste Parameter gibt dabei an, nach welcher Spalte der neue Datensatz eingefügt werden soll."
   ]
  },
  {
   "cell_type": "code",
   "execution_count": 26,
   "metadata": {},
   "outputs": [
    {
     "data": {
      "text/html": [
       "<div>\n",
       "<style scoped>\n",
       "    .dataframe tbody tr th:only-of-type {\n",
       "        vertical-align: middle;\n",
       "    }\n",
       "\n",
       "    .dataframe tbody tr th {\n",
       "        vertical-align: top;\n",
       "    }\n",
       "\n",
       "    .dataframe thead th {\n",
       "        text-align: right;\n",
       "    }\n",
       "</style>\n",
       "<table border=\"1\" class=\"dataframe\">\n",
       "  <thead>\n",
       "    <tr style=\"text-align: right;\">\n",
       "      <th></th>\n",
       "      <th></th>\n",
       "      <th>Alice</th>\n",
       "      <th>Bob</th>\n",
       "      <th>Carol</th>\n",
       "      <th>Eve</th>\n",
       "      <th>Duane</th>\n",
       "    </tr>\n",
       "  </thead>\n",
       "  <tbody>\n",
       "    <tr>\n",
       "      <th>persoenlich</th>\n",
       "      <th>Geburtsjahr</th>\n",
       "      <td>1995</td>\n",
       "      <td>1992</td>\n",
       "      <td>1988</td>\n",
       "      <td>1999</td>\n",
       "      <td>2000</td>\n",
       "    </tr>\n",
       "    <tr>\n",
       "      <th rowspan=\"2\" valign=\"top\">verwaltung</th>\n",
       "      <th>Matrikelnummer</th>\n",
       "      <td>833421</td>\n",
       "      <td>831473</td>\n",
       "      <td>700326</td>\n",
       "      <td>831612</td>\n",
       "      <td>833935</td>\n",
       "    </tr>\n",
       "    <tr>\n",
       "      <th>Studiengang</th>\n",
       "      <td>Info</td>\n",
       "      <td>MBau</td>\n",
       "      <td>Info</td>\n",
       "      <td>Info</td>\n",
       "      <td>MBau</td>\n",
       "    </tr>\n",
       "  </tbody>\n",
       "</table>\n",
       "</div>"
      ],
      "text/plain": [
       "                             Alice     Bob   Carol     Eve   Duane\n",
       "persoenlich Geburtsjahr       1995    1992    1988    1999    2000\n",
       "verwaltung  Matrikelnummer  833421  831473  700326  831612  833935\n",
       "            Studiengang       Info    MBau    Info    Info    MBau"
      ]
     },
     "execution_count": 26,
     "metadata": {},
     "output_type": "execute_result"
    }
   ],
   "source": [
    "eintraege_tmp.insert(4, \"Duane\", [2000, 833935, \"MBau\"])\n",
    "eintraege_tmp"
   ]
  },
  {
   "cell_type": "markdown",
   "metadata": {},
   "source": [
    "### Spalten \"Stapeln\" und \"Entstapeln\"\n",
    "\n",
    "Mit der `stack()` Methode kann man die Spalten eines `DataFrame` aufstapeln.\n",
    "Angenommen, eine Tabelle hat $m$ Zeilen und $n$ Spalten.\n",
    "Die `stack()`-Funktion erzeugt daraus ein `Series`-Objekt mit $m*n$ Elementen.\n",
    "Jede einzelne Zeile wird dabei ver-$n$-facht, indem alle $n$ Spaltenwerte der Zeile \"untereinander\" geschrieben werden.\n",
    "Das Label der Zeile wird kombiniert aus dem alten Zeilennamen plus dem alten Spaltennamen."
   ]
  },
  {
   "cell_type": "code",
   "execution_count": 27,
   "metadata": {},
   "outputs": [
    {
     "name": "stdout",
     "output_type": "stream",
     "text": [
      "      Geburtsjahr Matrikelnummer Studiengang\n",
      "Alice        1995         833421        Info\n",
      "Bob          1992         831473        MBau\n",
      "Carol        1988         700326        Info\n",
      "Dave         2001              0       ETech\n",
      "Eve          1999         831612        Info\n"
     ]
    },
    {
     "data": {
      "text/plain": [
       "Alice  Geburtsjahr         1995\n",
       "       Matrikelnummer    833421\n",
       "       Studiengang         Info\n",
       "Bob    Geburtsjahr         1992\n",
       "       Matrikelnummer    831473\n",
       "       Studiengang         MBau\n",
       "Carol  Geburtsjahr         1988\n",
       "       Matrikelnummer    700326\n",
       "       Studiengang         Info\n",
       "Dave   Geburtsjahr         2001\n",
       "       Matrikelnummer         0\n",
       "       Studiengang        ETech\n",
       "Eve    Geburtsjahr         1999\n",
       "       Matrikelnummer    831612\n",
       "       Studiengang         Info\n",
       "dtype: object"
      ]
     },
     "execution_count": 27,
     "metadata": {},
     "output_type": "execute_result"
    }
   ],
   "source": [
    "print(personen)\n",
    "personen_stack = personen.stack()\n",
    "personen_stack"
   ]
  },
  {
   "cell_type": "markdown",
   "metadata": {},
   "source": [
    "Mit `unstack()` macht man das Stapeln rückgängig.\n",
    "Beide Methoden, `stack()` und `unstack()`, verändern dabei nicht die existierenden Objekte, sondern liefern neu (kopierte) Objekte zurück."
   ]
  },
  {
   "cell_type": "code",
   "execution_count": 28,
   "metadata": {},
   "outputs": [
    {
     "data": {
      "text/html": [
       "<div>\n",
       "<style scoped>\n",
       "    .dataframe tbody tr th:only-of-type {\n",
       "        vertical-align: middle;\n",
       "    }\n",
       "\n",
       "    .dataframe tbody tr th {\n",
       "        vertical-align: top;\n",
       "    }\n",
       "\n",
       "    .dataframe thead th {\n",
       "        text-align: right;\n",
       "    }\n",
       "</style>\n",
       "<table border=\"1\" class=\"dataframe\">\n",
       "  <thead>\n",
       "    <tr style=\"text-align: right;\">\n",
       "      <th></th>\n",
       "      <th>Geburtsjahr</th>\n",
       "      <th>Matrikelnummer</th>\n",
       "      <th>Studiengang</th>\n",
       "    </tr>\n",
       "  </thead>\n",
       "  <tbody>\n",
       "    <tr>\n",
       "      <th>Alice</th>\n",
       "      <td>1995</td>\n",
       "      <td>833421</td>\n",
       "      <td>Info</td>\n",
       "    </tr>\n",
       "    <tr>\n",
       "      <th>Bob</th>\n",
       "      <td>1992</td>\n",
       "      <td>831473</td>\n",
       "      <td>MBau</td>\n",
       "    </tr>\n",
       "    <tr>\n",
       "      <th>Carol</th>\n",
       "      <td>1988</td>\n",
       "      <td>700326</td>\n",
       "      <td>Info</td>\n",
       "    </tr>\n",
       "    <tr>\n",
       "      <th>Dave</th>\n",
       "      <td>2001</td>\n",
       "      <td>0</td>\n",
       "      <td>ETech</td>\n",
       "    </tr>\n",
       "    <tr>\n",
       "      <th>Eve</th>\n",
       "      <td>1999</td>\n",
       "      <td>831612</td>\n",
       "      <td>Info</td>\n",
       "    </tr>\n",
       "  </tbody>\n",
       "</table>\n",
       "</div>"
      ],
      "text/plain": [
       "      Geburtsjahr Matrikelnummer Studiengang\n",
       "Alice        1995         833421        Info\n",
       "Bob          1992         831473        MBau\n",
       "Carol        1988         700326        Info\n",
       "Dave         2001              0       ETech\n",
       "Eve          1999         831612        Info"
      ]
     },
     "execution_count": 28,
     "metadata": {},
     "output_type": "execute_result"
    }
   ],
   "source": [
    "personen_neu = personen_stack.unstack()\n",
    "personen_neu"
   ]
  },
  {
   "cell_type": "markdown",
   "metadata": {},
   "source": [
    "### Neue Spalten Erzeugen\n",
    "\n",
    "Wenn Sie gelegentlich mit Tabellenkalkulationsprogrammen arbeiten, wissen Sie, dass es häufig nützlich ist, neue Spalten aus den Werten in bestehenden Spalten zu erzeugen. Dies können Sie bei Pandas mit der funktion `assign()` machen.\n",
    "\n",
    "Für das Beispiel erzeugen wir uns zunächst einen neuen `DataFrame` mit `copy()`. Danach schauen wir uns über das Attribut `dtypes` an, welche Datentypen die Werte in den Spalten unseres `DataFrames` besitzen."
   ]
  },
  {
   "cell_type": "code",
   "execution_count": 29,
   "metadata": {},
   "outputs": [
    {
     "data": {
      "text/plain": [
       "Geburtsjahr       object\n",
       "Matrikelnummer    object\n",
       "Studiengang       object\n",
       "dtype: object"
      ]
     },
     "execution_count": 29,
     "metadata": {},
     "output_type": "execute_result"
    }
   ],
   "source": [
    "personen_neu = personen.copy(deep=True)\n",
    "personen_neu.dtypes"
   ]
  },
  {
   "cell_type": "markdown",
   "metadata": {},
   "source": [
    "Leider sind die Daten in unserer Tabelle bisher mit dem allgemeinen Datentyp `object` hinterlegt. Bevor wir mit den Daten arbeiten, ist es daher sinnvoll, eine Typumwandlung vorzunehmen. Umwandeln können wir den Datentyp einer `Series` mit der Funktion `astype(t)`, die einen Datentyp `t` als Parameter erwartet. In unserem Beispiel wandeln wir die Spalte *Geburtsjahr* in einen `int`-Typ um, Sie Spalte *Studiengang* in `str`. Da `astype` ein neues Objekt erzeugt, weisen wir das Ergebnis der existierenden Spalte in `DataFrame` zu."
   ]
  },
  {
   "cell_type": "code",
   "execution_count": 30,
   "metadata": {},
   "outputs": [],
   "source": [
    "personen_neu[\"Geburtsjahr\"] = personen_neu[\"Geburtsjahr\"].astype(int)\n",
    "personen_neu[\"Studiengang\"] = personen_neu[\"Studiengang\"].astype(str)"
   ]
  },
  {
   "cell_type": "markdown",
   "metadata": {},
   "source": [
    "Um eine sinnvolle Berechnung durchführen zu können, erweitern wir den Datensatz um zwei Spalten *Geburtsmonat* und *Geburtstag*."
   ]
  },
  {
   "cell_type": "code",
   "execution_count": 31,
   "metadata": {},
   "outputs": [],
   "source": [
    "personen_neu.insert(1, \"Geburtsmonat\", [1,2,3,4,5])\n",
    "personen_neu.insert(2, \"Geburtstag\", [11,23,12,7,2])"
   ]
  },
  {
   "cell_type": "markdown",
   "metadata": {},
   "source": [
    "Wir wollen nun aus dem Geburtsjahr, -monat und -tag das ungefähre Alter der Person in Tagen errechnen.\n",
    "(Die Schaltjahre ignorieren wir an dieser Stelle.)\n",
    "Um von den Monatszahlen auf die Tage zu kommen, legen wir ein Array `monatstage` an.\n",
    "Die Werte in diesem Array geben an, wie viele Tage vor Beginn des jeweiligen Monats vergangen sind.\n",
    "Im Januar sind 0 Tage vergangen, am 1. April sind bereits 91 Tage vergangen."
   ]
  },
  {
   "cell_type": "code",
   "execution_count": 32,
   "metadata": {},
   "outputs": [
    {
     "data": {
      "text/plain": [
       "array([  0,  31,  59,  90, 120, 151, 181, 212, 243, 273, 304, 334])"
      ]
     },
     "execution_count": 32,
     "metadata": {},
     "output_type": "execute_result"
    }
   ],
   "source": [
    "monatstage = np.cumsum([0, 31,28,31,30,31,30,31,31,30,31,30])\n",
    "monatstage"
   ]
  },
  {
   "cell_type": "markdown",
   "metadata": {},
   "source": [
    "Mit diesem Hilfs-Array erzeigen wir nun ein neues Array, das für jede Person in dem `Dataframe` die Jahrestage vor dem jeweiligen Geburtsmonat berechnet."
   ]
  },
  {
   "cell_type": "code",
   "execution_count": 33,
   "metadata": {},
   "outputs": [
    {
     "data": {
      "text/plain": [
       "array([  0,  31,  59,  90, 120])"
      ]
     },
     "execution_count": 33,
     "metadata": {},
     "output_type": "execute_result"
    }
   ],
   "source": [
    "monatstage_pro_person = np.array([monatstage[x-1] for x in personen_neu[\"Geburtsmonat\"].values])\n",
    "monatstage_pro_person"
   ]
  },
  {
   "cell_type": "markdown",
   "metadata": {},
   "source": [
    "Nun können wir das Alter der Personen in Tagen bestimmen. Aus dem Geburtsjahr berechnen wir das Alter in Jahren (plus Eins).\n",
    "Die Werte in `monatstage_pro_person` sowie die Einträge in der Spalte *Geburtstag* ergeben die verstrichenen Tage im Geburtsjahr.\n",
    "Diese ziehen wir vom Jahreswert ab und erhalten damit das Alter der Person zum 1.1. des aktuellen Jahres.\n",
    "Auf diesen Wert addieren wir dann die verstrichen Tage im aktuellen Jahr.\n",
    "\n",
    "Das Resultat fügen wir als Splate *Alter* der Tabelle hinzu.\n",
    "Außerdem hängen wir eine Spalte an, die beshreibt, ob eine Person Informatik studiert."
   ]
  },
  {
   "cell_type": "code",
   "execution_count": 34,
   "metadata": {},
   "outputs": [
    {
     "data": {
      "text/html": [
       "<div>\n",
       "<style scoped>\n",
       "    .dataframe tbody tr th:only-of-type {\n",
       "        vertical-align: middle;\n",
       "    }\n",
       "\n",
       "    .dataframe tbody tr th {\n",
       "        vertical-align: top;\n",
       "    }\n",
       "\n",
       "    .dataframe thead th {\n",
       "        text-align: right;\n",
       "    }\n",
       "</style>\n",
       "<table border=\"1\" class=\"dataframe\">\n",
       "  <thead>\n",
       "    <tr style=\"text-align: right;\">\n",
       "      <th></th>\n",
       "      <th>Geburtsjahr</th>\n",
       "      <th>Geburtsmonat</th>\n",
       "      <th>Geburtstag</th>\n",
       "      <th>Matrikelnummer</th>\n",
       "      <th>Studiengang</th>\n",
       "      <th>Alter</th>\n",
       "      <th>Informatiker</th>\n",
       "    </tr>\n",
       "  </thead>\n",
       "  <tbody>\n",
       "    <tr>\n",
       "      <th>Alice</th>\n",
       "      <td>1995</td>\n",
       "      <td>1</td>\n",
       "      <td>11</td>\n",
       "      <td>833421</td>\n",
       "      <td>Info</td>\n",
       "      <td>8827</td>\n",
       "      <td>True</td>\n",
       "    </tr>\n",
       "    <tr>\n",
       "      <th>Bob</th>\n",
       "      <td>1992</td>\n",
       "      <td>2</td>\n",
       "      <td>23</td>\n",
       "      <td>831473</td>\n",
       "      <td>MBau</td>\n",
       "      <td>9879</td>\n",
       "      <td>False</td>\n",
       "    </tr>\n",
       "    <tr>\n",
       "      <th>Carol</th>\n",
       "      <td>1988</td>\n",
       "      <td>3</td>\n",
       "      <td>12</td>\n",
       "      <td>700326</td>\n",
       "      <td>Info</td>\n",
       "      <td>11322</td>\n",
       "      <td>True</td>\n",
       "    </tr>\n",
       "    <tr>\n",
       "      <th>Dave</th>\n",
       "      <td>2001</td>\n",
       "      <td>4</td>\n",
       "      <td>7</td>\n",
       "      <td>0</td>\n",
       "      <td>ETech</td>\n",
       "      <td>6551</td>\n",
       "      <td>False</td>\n",
       "    </tr>\n",
       "    <tr>\n",
       "      <th>Eve</th>\n",
       "      <td>1999</td>\n",
       "      <td>5</td>\n",
       "      <td>2</td>\n",
       "      <td>831612</td>\n",
       "      <td>Info</td>\n",
       "      <td>7256</td>\n",
       "      <td>True</td>\n",
       "    </tr>\n",
       "  </tbody>\n",
       "</table>\n",
       "</div>"
      ],
      "text/plain": [
       "       Geburtsjahr  Geburtsmonat  Geburtstag Matrikelnummer Studiengang  \\\n",
       "Alice         1995             1          11         833421        Info   \n",
       "Bob           1992             2          23         831473        MBau   \n",
       "Carol         1988             3          12         700326        Info   \n",
       "Dave          2001             4           7              0       ETech   \n",
       "Eve           1999             5           2         831612        Info   \n",
       "\n",
       "       Alter  Informatiker  \n",
       "Alice   8827          True  \n",
       "Bob     9879         False  \n",
       "Carol  11322          True  \n",
       "Dave    6551         False  \n",
       "Eve     7256          True  "
      ]
     },
     "execution_count": 34,
     "metadata": {},
     "output_type": "execute_result"
    }
   ],
   "source": [
    "aktuelles_Jahr = 2019\n",
    "aktueller_Tag = 78 # 18. März \n",
    "\n",
    "personen_neu = personen_neu.assign(\n",
    "    Alter = (aktuelles_Jahr-personen_neu[\"Geburtsjahr\"]) * 365 - \n",
    "             monatstage_pro_person -\n",
    "             personen_neu[\"Geburtstag\"] + \n",
    "             aktueller_Tag,\n",
    "    Informatiker = personen_neu[\"Studiengang\"] == \"Info\"\n",
    ")\n",
    "personen_neu"
   ]
  },
  {
   "cell_type": "markdown",
   "metadata": {},
   "source": [
    "### Daten abfragen\n",
    "\n",
    "Wenn die Daten in einem `DataFrame`-Objekt zusammengefastt sind, kann man einfache Anfragen mit den Funktionen `eval` und `query` an den Datensatz stellen. `eval` erwartet als Parameter einen auswertenden Ausdruck in Form eines Strings. In diesem Ausdruck können die Spaltennamen direkt über ihre Bezeichner verwendet werden. Auch Python Variable können in dem Ausdruck verwendet werden. Um Überschneidungen mit der Spaltennamen zu vermeiden, muss den Variablen ein `@` vorangestellt sein.\n"
   ]
  },
  {
   "cell_type": "code",
   "execution_count": 35,
   "metadata": {},
   "outputs": [
    {
     "data": {
      "text/plain": [
       "Alice     True\n",
       "Bob      False\n",
       "Carol    False\n",
       "Dave     False\n",
       "Eve       True\n",
       "dtype: bool"
      ]
     },
     "execution_count": 35,
     "metadata": {},
     "output_type": "execute_result"
    }
   ],
   "source": [
    "grenzwert_tage = 9000\n",
    "personen_neu.eval(\"Alter < @grenzwert_tage and Informatiker\")"
   ]
  },
  {
   "cell_type": "markdown",
   "metadata": {},
   "source": [
    "Der `eval` Ausdruck oben, liefert eine neue `Series`. Man kann aber auch die Werte in der Tabelle direkt ändern. Dazu setzen wir den Parameter `inplace=True`.\n",
    "\n",
    "Für ein Beispiel fügen wir zunächst 3 neue Spalten an unseren `DataFrame` an:"
   ]
  },
  {
   "cell_type": "code",
   "execution_count": 36,
   "metadata": {},
   "outputs": [
    {
     "data": {
      "text/html": [
       "<div>\n",
       "<style scoped>\n",
       "    .dataframe tbody tr th:only-of-type {\n",
       "        vertical-align: middle;\n",
       "    }\n",
       "\n",
       "    .dataframe tbody tr th {\n",
       "        vertical-align: top;\n",
       "    }\n",
       "\n",
       "    .dataframe thead th {\n",
       "        text-align: right;\n",
       "    }\n",
       "</style>\n",
       "<table border=\"1\" class=\"dataframe\">\n",
       "  <thead>\n",
       "    <tr style=\"text-align: right;\">\n",
       "      <th></th>\n",
       "      <th>Geburtsjahr</th>\n",
       "      <th>Geburtsmonat</th>\n",
       "      <th>Geburtstag</th>\n",
       "      <th>Matrikelnummer</th>\n",
       "      <th>Studiengang</th>\n",
       "      <th>Alter</th>\n",
       "      <th>Informatiker</th>\n",
       "      <th>A1</th>\n",
       "      <th>A2</th>\n",
       "      <th>Aufgaben</th>\n",
       "    </tr>\n",
       "  </thead>\n",
       "  <tbody>\n",
       "    <tr>\n",
       "      <th>Alice</th>\n",
       "      <td>1995</td>\n",
       "      <td>1</td>\n",
       "      <td>11</td>\n",
       "      <td>833421</td>\n",
       "      <td>Info</td>\n",
       "      <td>8827</td>\n",
       "      <td>True</td>\n",
       "      <td>10</td>\n",
       "      <td>10</td>\n",
       "      <td>0</td>\n",
       "    </tr>\n",
       "    <tr>\n",
       "      <th>Bob</th>\n",
       "      <td>1992</td>\n",
       "      <td>2</td>\n",
       "      <td>23</td>\n",
       "      <td>831473</td>\n",
       "      <td>MBau</td>\n",
       "      <td>9879</td>\n",
       "      <td>False</td>\n",
       "      <td>5</td>\n",
       "      <td>10</td>\n",
       "      <td>0</td>\n",
       "    </tr>\n",
       "    <tr>\n",
       "      <th>Carol</th>\n",
       "      <td>1988</td>\n",
       "      <td>3</td>\n",
       "      <td>12</td>\n",
       "      <td>700326</td>\n",
       "      <td>Info</td>\n",
       "      <td>11322</td>\n",
       "      <td>True</td>\n",
       "      <td>10</td>\n",
       "      <td>5</td>\n",
       "      <td>0</td>\n",
       "    </tr>\n",
       "    <tr>\n",
       "      <th>Dave</th>\n",
       "      <td>2001</td>\n",
       "      <td>4</td>\n",
       "      <td>7</td>\n",
       "      <td>0</td>\n",
       "      <td>ETech</td>\n",
       "      <td>6551</td>\n",
       "      <td>False</td>\n",
       "      <td>10</td>\n",
       "      <td>5</td>\n",
       "      <td>0</td>\n",
       "    </tr>\n",
       "    <tr>\n",
       "      <th>Eve</th>\n",
       "      <td>1999</td>\n",
       "      <td>5</td>\n",
       "      <td>2</td>\n",
       "      <td>831612</td>\n",
       "      <td>Info</td>\n",
       "      <td>7256</td>\n",
       "      <td>True</td>\n",
       "      <td>0</td>\n",
       "      <td>5</td>\n",
       "      <td>0</td>\n",
       "    </tr>\n",
       "  </tbody>\n",
       "</table>\n",
       "</div>"
      ],
      "text/plain": [
       "       Geburtsjahr  Geburtsmonat  Geburtstag Matrikelnummer Studiengang  \\\n",
       "Alice         1995             1          11         833421        Info   \n",
       "Bob           1992             2          23         831473        MBau   \n",
       "Carol         1988             3          12         700326        Info   \n",
       "Dave          2001             4           7              0       ETech   \n",
       "Eve           1999             5           2         831612        Info   \n",
       "\n",
       "       Alter  Informatiker  A1  A2  Aufgaben  \n",
       "Alice   8827          True  10  10         0  \n",
       "Bob     9879         False   5  10         0  \n",
       "Carol  11322          True  10   5         0  \n",
       "Dave    6551         False  10   5         0  \n",
       "Eve     7256          True   0   5         0  "
      ]
     },
     "execution_count": 36,
     "metadata": {},
     "output_type": "execute_result"
    }
   ],
   "source": [
    "personen_neu = personen_neu.assign(\n",
    "    A1 = [10,5,10,10,0],\n",
    "    A2 = [10,10,5,5,5],\n",
    "    Aufgaben = 0\n",
    ")\n",
    "personen_neu"
   ]
  },
  {
   "cell_type": "markdown",
   "metadata": {},
   "source": [
    "Nun können wir die Summe der Spalten *A1* und *A2* bilden und direkt nach *Aufgaben* schreiben."
   ]
  },
  {
   "cell_type": "code",
   "execution_count": 37,
   "metadata": {},
   "outputs": [
    {
     "data": {
      "text/html": [
       "<div>\n",
       "<style scoped>\n",
       "    .dataframe tbody tr th:only-of-type {\n",
       "        vertical-align: middle;\n",
       "    }\n",
       "\n",
       "    .dataframe tbody tr th {\n",
       "        vertical-align: top;\n",
       "    }\n",
       "\n",
       "    .dataframe thead th {\n",
       "        text-align: right;\n",
       "    }\n",
       "</style>\n",
       "<table border=\"1\" class=\"dataframe\">\n",
       "  <thead>\n",
       "    <tr style=\"text-align: right;\">\n",
       "      <th></th>\n",
       "      <th>Geburtsjahr</th>\n",
       "      <th>Geburtsmonat</th>\n",
       "      <th>Geburtstag</th>\n",
       "      <th>Matrikelnummer</th>\n",
       "      <th>Studiengang</th>\n",
       "      <th>Alter</th>\n",
       "      <th>Informatiker</th>\n",
       "      <th>A1</th>\n",
       "      <th>A2</th>\n",
       "      <th>Aufgaben</th>\n",
       "    </tr>\n",
       "  </thead>\n",
       "  <tbody>\n",
       "    <tr>\n",
       "      <th>Alice</th>\n",
       "      <td>1995</td>\n",
       "      <td>1</td>\n",
       "      <td>11</td>\n",
       "      <td>833421</td>\n",
       "      <td>Info</td>\n",
       "      <td>8827</td>\n",
       "      <td>True</td>\n",
       "      <td>10</td>\n",
       "      <td>10</td>\n",
       "      <td>20</td>\n",
       "    </tr>\n",
       "    <tr>\n",
       "      <th>Bob</th>\n",
       "      <td>1992</td>\n",
       "      <td>2</td>\n",
       "      <td>23</td>\n",
       "      <td>831473</td>\n",
       "      <td>MBau</td>\n",
       "      <td>9879</td>\n",
       "      <td>False</td>\n",
       "      <td>5</td>\n",
       "      <td>10</td>\n",
       "      <td>15</td>\n",
       "    </tr>\n",
       "    <tr>\n",
       "      <th>Carol</th>\n",
       "      <td>1988</td>\n",
       "      <td>3</td>\n",
       "      <td>12</td>\n",
       "      <td>700326</td>\n",
       "      <td>Info</td>\n",
       "      <td>11322</td>\n",
       "      <td>True</td>\n",
       "      <td>10</td>\n",
       "      <td>5</td>\n",
       "      <td>15</td>\n",
       "    </tr>\n",
       "    <tr>\n",
       "      <th>Dave</th>\n",
       "      <td>2001</td>\n",
       "      <td>4</td>\n",
       "      <td>7</td>\n",
       "      <td>0</td>\n",
       "      <td>ETech</td>\n",
       "      <td>6551</td>\n",
       "      <td>False</td>\n",
       "      <td>10</td>\n",
       "      <td>5</td>\n",
       "      <td>15</td>\n",
       "    </tr>\n",
       "    <tr>\n",
       "      <th>Eve</th>\n",
       "      <td>1999</td>\n",
       "      <td>5</td>\n",
       "      <td>2</td>\n",
       "      <td>831612</td>\n",
       "      <td>Info</td>\n",
       "      <td>7256</td>\n",
       "      <td>True</td>\n",
       "      <td>0</td>\n",
       "      <td>5</td>\n",
       "      <td>5</td>\n",
       "    </tr>\n",
       "  </tbody>\n",
       "</table>\n",
       "</div>"
      ],
      "text/plain": [
       "       Geburtsjahr  Geburtsmonat  Geburtstag Matrikelnummer Studiengang  \\\n",
       "Alice         1995             1          11         833421        Info   \n",
       "Bob           1992             2          23         831473        MBau   \n",
       "Carol         1988             3          12         700326        Info   \n",
       "Dave          2001             4           7              0       ETech   \n",
       "Eve           1999             5           2         831612        Info   \n",
       "\n",
       "       Alter  Informatiker  A1  A2  Aufgaben  \n",
       "Alice   8827          True  10  10        20  \n",
       "Bob     9879         False   5  10        15  \n",
       "Carol  11322          True  10   5        15  \n",
       "Dave    6551         False  10   5        15  \n",
       "Eve     7256          True   0   5         5  "
      ]
     },
     "execution_count": 37,
     "metadata": {},
     "output_type": "execute_result"
    }
   ],
   "source": [
    "personen_neu.eval(\"Aufgaben = A1 + A2\", inplace=True)\n",
    "personen_neu"
   ]
  },
  {
   "cell_type": "markdown",
   "metadata": {},
   "source": [
    "Mit `eval` haben wir einen Ausdruck ausgewertet und die Ergebnisse für alle Zeilen des Datensatzes berechnet.\n",
    "Die `query()`-Funktion erlaubt es, den `DataFrame` zu filtern und somit diejenigen Zeilen auszuwählen, bei denen die Auswertung eines Ausdruckes logisch Wahr ergibt."
   ]
  },
  {
   "cell_type": "code",
   "execution_count": 38,
   "metadata": {},
   "outputs": [
    {
     "data": {
      "text/html": [
       "<div>\n",
       "<style scoped>\n",
       "    .dataframe tbody tr th:only-of-type {\n",
       "        vertical-align: middle;\n",
       "    }\n",
       "\n",
       "    .dataframe tbody tr th {\n",
       "        vertical-align: top;\n",
       "    }\n",
       "\n",
       "    .dataframe thead th {\n",
       "        text-align: right;\n",
       "    }\n",
       "</style>\n",
       "<table border=\"1\" class=\"dataframe\">\n",
       "  <thead>\n",
       "    <tr style=\"text-align: right;\">\n",
       "      <th></th>\n",
       "      <th>Geburtsjahr</th>\n",
       "      <th>Geburtsmonat</th>\n",
       "      <th>Geburtstag</th>\n",
       "      <th>Matrikelnummer</th>\n",
       "      <th>Studiengang</th>\n",
       "      <th>Alter</th>\n",
       "      <th>Informatiker</th>\n",
       "      <th>A1</th>\n",
       "      <th>A2</th>\n",
       "      <th>Aufgaben</th>\n",
       "    </tr>\n",
       "  </thead>\n",
       "  <tbody>\n",
       "    <tr>\n",
       "      <th>Eve</th>\n",
       "      <td>1999</td>\n",
       "      <td>5</td>\n",
       "      <td>2</td>\n",
       "      <td>831612</td>\n",
       "      <td>Info</td>\n",
       "      <td>7256</td>\n",
       "      <td>True</td>\n",
       "      <td>0</td>\n",
       "      <td>5</td>\n",
       "      <td>5</td>\n",
       "    </tr>\n",
       "  </tbody>\n",
       "</table>\n",
       "</div>"
      ],
      "text/plain": [
       "     Geburtsjahr  Geburtsmonat  Geburtstag Matrikelnummer Studiengang  Alter  \\\n",
       "Eve         1999             5           2         831612        Info   7256   \n",
       "\n",
       "     Informatiker  A1  A2  Aufgaben  \n",
       "Eve          True   0   5         5  "
      ]
     },
     "execution_count": 38,
     "metadata": {},
     "output_type": "execute_result"
    }
   ],
   "source": [
    "min_punkte = 10\n",
    "personen_neu.query(\"Aufgaben <= @min_punkte and Informatiker\")"
   ]
  },
  {
   "cell_type": "markdown",
   "metadata": {},
   "source": [
    "DataFrames können auch sortiert werden.\n",
    "Mit `sort_index` erfolgt eine zeilenbasierte Sortierung bei der als Sortierschlüssel das Zeilenlabel verwendet wird.\n",
    "Mit `sort_values` wird nach Spalten sortiert.\n",
    "Hierbei kann man mit dem Parameter `by` die Spalte auswählen, die als Sortierschlüssel verwendet werden soll.\n",
    "Um in absteigender Reihenfolge zu sortieren, setzt man den Parameter `ascending` auf `False`."
   ]
  },
  {
   "cell_type": "code",
   "execution_count": 39,
   "metadata": {},
   "outputs": [
    {
     "data": {
      "text/html": [
       "<div>\n",
       "<style scoped>\n",
       "    .dataframe tbody tr th:only-of-type {\n",
       "        vertical-align: middle;\n",
       "    }\n",
       "\n",
       "    .dataframe tbody tr th {\n",
       "        vertical-align: top;\n",
       "    }\n",
       "\n",
       "    .dataframe thead th {\n",
       "        text-align: right;\n",
       "    }\n",
       "</style>\n",
       "<table border=\"1\" class=\"dataframe\">\n",
       "  <thead>\n",
       "    <tr style=\"text-align: right;\">\n",
       "      <th></th>\n",
       "      <th>Geburtsjahr</th>\n",
       "      <th>Geburtsmonat</th>\n",
       "      <th>Geburtstag</th>\n",
       "      <th>Matrikelnummer</th>\n",
       "      <th>Studiengang</th>\n",
       "      <th>Alter</th>\n",
       "      <th>Informatiker</th>\n",
       "      <th>A1</th>\n",
       "      <th>A2</th>\n",
       "      <th>Aufgaben</th>\n",
       "    </tr>\n",
       "  </thead>\n",
       "  <tbody>\n",
       "    <tr>\n",
       "      <th>Eve</th>\n",
       "      <td>1999</td>\n",
       "      <td>5</td>\n",
       "      <td>2</td>\n",
       "      <td>831612</td>\n",
       "      <td>Info</td>\n",
       "      <td>7256</td>\n",
       "      <td>True</td>\n",
       "      <td>0</td>\n",
       "      <td>5</td>\n",
       "      <td>5</td>\n",
       "    </tr>\n",
       "    <tr>\n",
       "      <th>Dave</th>\n",
       "      <td>2001</td>\n",
       "      <td>4</td>\n",
       "      <td>7</td>\n",
       "      <td>0</td>\n",
       "      <td>ETech</td>\n",
       "      <td>6551</td>\n",
       "      <td>False</td>\n",
       "      <td>10</td>\n",
       "      <td>5</td>\n",
       "      <td>15</td>\n",
       "    </tr>\n",
       "    <tr>\n",
       "      <th>Carol</th>\n",
       "      <td>1988</td>\n",
       "      <td>3</td>\n",
       "      <td>12</td>\n",
       "      <td>700326</td>\n",
       "      <td>Info</td>\n",
       "      <td>11322</td>\n",
       "      <td>True</td>\n",
       "      <td>10</td>\n",
       "      <td>5</td>\n",
       "      <td>15</td>\n",
       "    </tr>\n",
       "    <tr>\n",
       "      <th>Bob</th>\n",
       "      <td>1992</td>\n",
       "      <td>2</td>\n",
       "      <td>23</td>\n",
       "      <td>831473</td>\n",
       "      <td>MBau</td>\n",
       "      <td>9879</td>\n",
       "      <td>False</td>\n",
       "      <td>5</td>\n",
       "      <td>10</td>\n",
       "      <td>15</td>\n",
       "    </tr>\n",
       "    <tr>\n",
       "      <th>Alice</th>\n",
       "      <td>1995</td>\n",
       "      <td>1</td>\n",
       "      <td>11</td>\n",
       "      <td>833421</td>\n",
       "      <td>Info</td>\n",
       "      <td>8827</td>\n",
       "      <td>True</td>\n",
       "      <td>10</td>\n",
       "      <td>10</td>\n",
       "      <td>20</td>\n",
       "    </tr>\n",
       "  </tbody>\n",
       "</table>\n",
       "</div>"
      ],
      "text/plain": [
       "       Geburtsjahr  Geburtsmonat  Geburtstag Matrikelnummer Studiengang  \\\n",
       "Eve           1999             5           2         831612        Info   \n",
       "Dave          2001             4           7              0       ETech   \n",
       "Carol         1988             3          12         700326        Info   \n",
       "Bob           1992             2          23         831473        MBau   \n",
       "Alice         1995             1          11         833421        Info   \n",
       "\n",
       "       Alter  Informatiker  A1  A2  Aufgaben  \n",
       "Eve     7256          True   0   5         5  \n",
       "Dave    6551         False  10   5        15  \n",
       "Carol  11322          True  10   5        15  \n",
       "Bob     9879         False   5  10        15  \n",
       "Alice   8827          True  10  10        20  "
      ]
     },
     "execution_count": 39,
     "metadata": {},
     "output_type": "execute_result"
    }
   ],
   "source": [
    "personen_neu.sort_index(ascending=False)"
   ]
  },
  {
   "cell_type": "markdown",
   "metadata": {},
   "source": [
    "Die Funktionen liefern dabei eine sortierte *Kopie* das `DataFrame`-Objekts zurück.\n",
    "Um die Tabellen selbst zu ändern, gibt man den Parameter `inplace` mit dem Wert `True` an"
   ]
  },
  {
   "cell_type": "code",
   "execution_count": 40,
   "metadata": {},
   "outputs": [
    {
     "data": {
      "text/html": [
       "<div>\n",
       "<style scoped>\n",
       "    .dataframe tbody tr th:only-of-type {\n",
       "        vertical-align: middle;\n",
       "    }\n",
       "\n",
       "    .dataframe tbody tr th {\n",
       "        vertical-align: top;\n",
       "    }\n",
       "\n",
       "    .dataframe thead th {\n",
       "        text-align: right;\n",
       "    }\n",
       "</style>\n",
       "<table border=\"1\" class=\"dataframe\">\n",
       "  <thead>\n",
       "    <tr style=\"text-align: right;\">\n",
       "      <th></th>\n",
       "      <th>Geburtsjahr</th>\n",
       "      <th>Geburtsmonat</th>\n",
       "      <th>Geburtstag</th>\n",
       "      <th>Matrikelnummer</th>\n",
       "      <th>Studiengang</th>\n",
       "      <th>Alter</th>\n",
       "      <th>Informatiker</th>\n",
       "      <th>A1</th>\n",
       "      <th>A2</th>\n",
       "      <th>Aufgaben</th>\n",
       "    </tr>\n",
       "  </thead>\n",
       "  <tbody>\n",
       "    <tr>\n",
       "      <th>Dave</th>\n",
       "      <td>2001</td>\n",
       "      <td>4</td>\n",
       "      <td>7</td>\n",
       "      <td>0</td>\n",
       "      <td>ETech</td>\n",
       "      <td>6551</td>\n",
       "      <td>False</td>\n",
       "      <td>10</td>\n",
       "      <td>5</td>\n",
       "      <td>15</td>\n",
       "    </tr>\n",
       "    <tr>\n",
       "      <th>Carol</th>\n",
       "      <td>1988</td>\n",
       "      <td>3</td>\n",
       "      <td>12</td>\n",
       "      <td>700326</td>\n",
       "      <td>Info</td>\n",
       "      <td>11322</td>\n",
       "      <td>True</td>\n",
       "      <td>10</td>\n",
       "      <td>5</td>\n",
       "      <td>15</td>\n",
       "    </tr>\n",
       "    <tr>\n",
       "      <th>Bob</th>\n",
       "      <td>1992</td>\n",
       "      <td>2</td>\n",
       "      <td>23</td>\n",
       "      <td>831473</td>\n",
       "      <td>MBau</td>\n",
       "      <td>9879</td>\n",
       "      <td>False</td>\n",
       "      <td>5</td>\n",
       "      <td>10</td>\n",
       "      <td>15</td>\n",
       "    </tr>\n",
       "    <tr>\n",
       "      <th>Eve</th>\n",
       "      <td>1999</td>\n",
       "      <td>5</td>\n",
       "      <td>2</td>\n",
       "      <td>831612</td>\n",
       "      <td>Info</td>\n",
       "      <td>7256</td>\n",
       "      <td>True</td>\n",
       "      <td>0</td>\n",
       "      <td>5</td>\n",
       "      <td>5</td>\n",
       "    </tr>\n",
       "    <tr>\n",
       "      <th>Alice</th>\n",
       "      <td>1995</td>\n",
       "      <td>1</td>\n",
       "      <td>11</td>\n",
       "      <td>833421</td>\n",
       "      <td>Info</td>\n",
       "      <td>8827</td>\n",
       "      <td>True</td>\n",
       "      <td>10</td>\n",
       "      <td>10</td>\n",
       "      <td>20</td>\n",
       "    </tr>\n",
       "  </tbody>\n",
       "</table>\n",
       "</div>"
      ],
      "text/plain": [
       "       Geburtsjahr  Geburtsmonat  Geburtstag Matrikelnummer Studiengang  \\\n",
       "Dave          2001             4           7              0       ETech   \n",
       "Carol         1988             3          12         700326        Info   \n",
       "Bob           1992             2          23         831473        MBau   \n",
       "Eve           1999             5           2         831612        Info   \n",
       "Alice         1995             1          11         833421        Info   \n",
       "\n",
       "       Alter  Informatiker  A1  A2  Aufgaben  \n",
       "Dave    6551         False  10   5        15  \n",
       "Carol  11322          True  10   5        15  \n",
       "Bob     9879         False   5  10        15  \n",
       "Eve     7256          True   0   5         5  \n",
       "Alice   8827          True  10  10        20  "
      ]
     },
     "execution_count": 40,
     "metadata": {},
     "output_type": "execute_result"
    }
   ],
   "source": [
    "personen_neu.sort_values(by=\"Matrikelnummer\", inplace=True)\n",
    "personen_neu"
   ]
  },
  {
   "cell_type": "markdown",
   "metadata": {},
   "source": [
    "## Operationen auf `DataFrame`-Objekten\n",
    "\n",
    "Viele der Operationen, die mit NumPy aud `ndarrays` möglich sind, unterstüzt in gleicher oder ähnlicher Form auch Pandas mit den DataFrames. So können beispielsweise arithmetische Operationen auf komplette `DataFrame`-Objekten ausgeführt werden. Die Möglichkeiten sind sehr Umfangreich und wir geben an dieser Stelle nur einige kleine Beispiele."
   ]
  },
  {
   "cell_type": "code",
   "execution_count": 41,
   "metadata": {},
   "outputs": [
    {
     "name": "stdout",
     "output_type": "stream",
     "text": [
      "Ausgangs-DataFrame:\n",
      "        A1  A2  A3\n",
      "Alice   5  10  10\n",
      "Bob    10   5   5\n",
      "Carol   0   0   5\n",
      "Dave    5   5  10\n",
      "\n",
      "Wurzel:\n",
      "              A1        A2        A3\n",
      "Alice  2.236068  3.162278  3.162278\n",
      "Bob    3.162278  2.236068  2.236068\n",
      "Carol  0.000000  0.000000  2.236068\n",
      "Dave   2.236068  2.236068  3.162278\n",
      "\n",
      "Addition:\n",
      "        A1  A2  A3\n",
      "Alice  15  20  20\n",
      "Bob    20  15  15\n",
      "Carol  10  10  15\n",
      "Dave   15  15  20\n",
      "\n",
      "Bedingung:\n",
      "           A1     A2     A3\n",
      "Alice  False   True   True\n",
      "Bob     True  False  False\n",
      "Carol  False  False  False\n",
      "Dave   False  False   True\n",
      "\n",
      "Bedingung (muss für alle Elemente einer Spalte erfüült sein):\n",
      " A1    False\n",
      "A2    False\n",
      "A3     True\n",
      "dtype: bool\n",
      "\n",
      "Mittelwert über alle Spalten:\n",
      " A1    5.0\n",
      "A2    5.0\n",
      "A3    7.5\n",
      "dtype: float64\n"
     ]
    }
   ],
   "source": [
    "punkte_np = np.array([[5,10,10],[10,5,5],[0, 0, 5], [5, 5, 10]])\n",
    "punkte = pd.DataFrame(punkte_np, columns=[\"A1\", \"A2\", \"A3\"], index=[\"Alice\",\"Bob\",\"Carol\",\"Dave\"])\n",
    "print(\"Ausgangs-DataFrame:\\n\", punkte)\n",
    "print(\"\\nWurzel:\\n\", np.sqrt(punkte))\n",
    "print(\"\\nAddition:\\n\", punkte+10)\n",
    "print(\"\\nBedingung:\\n\", punkte>5)\n",
    "print(\"\\nBedingung (muss für alle Elemente einer Spalte erfüült sein):\\n\", (punkte>0).all())\n",
    "print(\"\\nMittelwert über alle Spalten:\\n\", punkte.mean())"
   ]
  },
  {
   "cell_type": "markdown",
   "metadata": {},
   "source": [
    "## Umgang mit fehlenden Daten\n",
    "\n",
    "Ein großes Problem bei statistischen Analysen sind unvollständige Datensätze.\n",
    "Pandas liefert einige Methoden, um Lücken in Datensätzen sinnvoll zu schließen.\n",
    "\n",
    "Definieren wir uns für ein Beispiel zuerst eine Tabelle mit einigen fehlenden  Werten."
   ]
  },
  {
   "cell_type": "code",
   "execution_count": 42,
   "metadata": {},
   "outputs": [
    {
     "data": {
      "text/html": [
       "<div>\n",
       "<style scoped>\n",
       "    .dataframe tbody tr th:only-of-type {\n",
       "        vertical-align: middle;\n",
       "    }\n",
       "\n",
       "    .dataframe tbody tr th {\n",
       "        vertical-align: top;\n",
       "    }\n",
       "\n",
       "    .dataframe thead th {\n",
       "        text-align: right;\n",
       "    }\n",
       "</style>\n",
       "<table border=\"1\" class=\"dataframe\">\n",
       "  <thead>\n",
       "    <tr style=\"text-align: right;\">\n",
       "      <th></th>\n",
       "      <th>A1</th>\n",
       "      <th>A2</th>\n",
       "      <th>A3</th>\n",
       "    </tr>\n",
       "  </thead>\n",
       "  <tbody>\n",
       "    <tr>\n",
       "      <th>Alice</th>\n",
       "      <td>5.0</td>\n",
       "      <td>NaN</td>\n",
       "      <td>10.0</td>\n",
       "    </tr>\n",
       "    <tr>\n",
       "      <th>Bob</th>\n",
       "      <td>NaN</td>\n",
       "      <td>5.0</td>\n",
       "      <td>NaN</td>\n",
       "    </tr>\n",
       "    <tr>\n",
       "      <th>Carol</th>\n",
       "      <td>0.0</td>\n",
       "      <td>0.0</td>\n",
       "      <td>NaN</td>\n",
       "    </tr>\n",
       "    <tr>\n",
       "      <th>Dave</th>\n",
       "      <td>NaN</td>\n",
       "      <td>5.0</td>\n",
       "      <td>10.0</td>\n",
       "    </tr>\n",
       "  </tbody>\n",
       "</table>\n",
       "</div>"
      ],
      "text/plain": [
       "        A1   A2    A3\n",
       "Alice  5.0  NaN  10.0\n",
       "Bob    NaN  5.0   NaN\n",
       "Carol  0.0  0.0   NaN\n",
       "Dave   NaN  5.0  10.0"
      ]
     },
     "execution_count": 42,
     "metadata": {},
     "output_type": "execute_result"
    }
   ],
   "source": [
    "punkte_np = np.array([[5,np.nan,10],[np.nan,5,np.nan],[0, 0, np.nan], [np.nan, 5, 10]])\n",
    "punkte = pd.DataFrame(punkte_np, columns=[\"A1\", \"A2\", \"A3\"], index=[\"Alice\",\"Bob\",\"Carol\",\"Dave\"])\n",
    "punkte"
   ]
  },
  {
   "cell_type": "markdown",
   "metadata": {},
   "source": [
    "Um die `NaN`-Einträge zu eliminieren, kann die `fillna()` Methode eingesetzt werden.\n",
    "Damit können wir z.B. alle fehlenden Einträge durch eine `0` ersetzen."
   ]
  },
  {
   "cell_type": "code",
   "execution_count": 43,
   "metadata": {},
   "outputs": [
    {
     "data": {
      "text/html": [
       "<div>\n",
       "<style scoped>\n",
       "    .dataframe tbody tr th:only-of-type {\n",
       "        vertical-align: middle;\n",
       "    }\n",
       "\n",
       "    .dataframe tbody tr th {\n",
       "        vertical-align: top;\n",
       "    }\n",
       "\n",
       "    .dataframe thead th {\n",
       "        text-align: right;\n",
       "    }\n",
       "</style>\n",
       "<table border=\"1\" class=\"dataframe\">\n",
       "  <thead>\n",
       "    <tr style=\"text-align: right;\">\n",
       "      <th></th>\n",
       "      <th>A1</th>\n",
       "      <th>A2</th>\n",
       "      <th>A3</th>\n",
       "    </tr>\n",
       "  </thead>\n",
       "  <tbody>\n",
       "    <tr>\n",
       "      <th>Alice</th>\n",
       "      <td>5.0</td>\n",
       "      <td>0.0</td>\n",
       "      <td>10.0</td>\n",
       "    </tr>\n",
       "    <tr>\n",
       "      <th>Bob</th>\n",
       "      <td>0.0</td>\n",
       "      <td>5.0</td>\n",
       "      <td>0.0</td>\n",
       "    </tr>\n",
       "    <tr>\n",
       "      <th>Carol</th>\n",
       "      <td>0.0</td>\n",
       "      <td>0.0</td>\n",
       "      <td>0.0</td>\n",
       "    </tr>\n",
       "    <tr>\n",
       "      <th>Dave</th>\n",
       "      <td>0.0</td>\n",
       "      <td>5.0</td>\n",
       "      <td>10.0</td>\n",
       "    </tr>\n",
       "  </tbody>\n",
       "</table>\n",
       "</div>"
      ],
      "text/plain": [
       "        A1   A2    A3\n",
       "Alice  5.0  0.0  10.0\n",
       "Bob    0.0  5.0   0.0\n",
       "Carol  0.0  0.0   0.0\n",
       "Dave   0.0  5.0  10.0"
      ]
     },
     "execution_count": 43,
     "metadata": {},
     "output_type": "execute_result"
    }
   ],
   "source": [
    "punkte.fillna(0)"
   ]
  },
  {
   "cell_type": "markdown",
   "metadata": {},
   "source": [
    "Manchmal ist es aber nicht zielführend, fehlende Einträge durch Konstanten zu ersetzen.\n",
    "Eventuell möchte man die Lücken durch sinnvolle Schätzungen auffüllen.\n",
    "Dies kann man mit der Methode `interpolate` realisieren.\n",
    "Über den Parameter `axis` kann man angeben, nach welcher Achse die Interpolation stattfinden soll.\n",
    "`axis=0` wählt die Zeilen aus, im Beispiel entspricht das einer Interpolation über die Aufgaben *A1*-*A3*.\n",
    "Da Alice bei A1 5 Punkte erzielt hat und Carol 0, wird der Wert für Bob mit 2.5 abgeschätzt.\n",
    "Eine solche Schätzung ist für unser Beispiel weniger sinnvoll."
   ]
  },
  {
   "cell_type": "code",
   "execution_count": 44,
   "metadata": {},
   "outputs": [
    {
     "data": {
      "text/html": [
       "<div>\n",
       "<style scoped>\n",
       "    .dataframe tbody tr th:only-of-type {\n",
       "        vertical-align: middle;\n",
       "    }\n",
       "\n",
       "    .dataframe tbody tr th {\n",
       "        vertical-align: top;\n",
       "    }\n",
       "\n",
       "    .dataframe thead th {\n",
       "        text-align: right;\n",
       "    }\n",
       "</style>\n",
       "<table border=\"1\" class=\"dataframe\">\n",
       "  <thead>\n",
       "    <tr style=\"text-align: right;\">\n",
       "      <th></th>\n",
       "      <th>A1</th>\n",
       "      <th>A2</th>\n",
       "      <th>A3</th>\n",
       "    </tr>\n",
       "  </thead>\n",
       "  <tbody>\n",
       "    <tr>\n",
       "      <th>Alice</th>\n",
       "      <td>5.0</td>\n",
       "      <td>NaN</td>\n",
       "      <td>10.0</td>\n",
       "    </tr>\n",
       "    <tr>\n",
       "      <th>Bob</th>\n",
       "      <td>2.5</td>\n",
       "      <td>5.0</td>\n",
       "      <td>10.0</td>\n",
       "    </tr>\n",
       "    <tr>\n",
       "      <th>Carol</th>\n",
       "      <td>0.0</td>\n",
       "      <td>0.0</td>\n",
       "      <td>10.0</td>\n",
       "    </tr>\n",
       "    <tr>\n",
       "      <th>Dave</th>\n",
       "      <td>0.0</td>\n",
       "      <td>5.0</td>\n",
       "      <td>10.0</td>\n",
       "    </tr>\n",
       "  </tbody>\n",
       "</table>\n",
       "</div>"
      ],
      "text/plain": [
       "        A1   A2    A3\n",
       "Alice  5.0  NaN  10.0\n",
       "Bob    2.5  5.0  10.0\n",
       "Carol  0.0  0.0  10.0\n",
       "Dave   0.0  5.0  10.0"
      ]
     },
     "execution_count": 44,
     "metadata": {},
     "output_type": "execute_result"
    }
   ],
   "source": [
    "punkte.interpolate(axis=0)"
   ]
  },
  {
   "cell_type": "markdown",
   "metadata": {},
   "source": [
    "Mit `axis=1` erfolgt die Interpolation über Spalten der Tabelle.\n",
    "Es wird also geschätzt, wie viele Punkte eine Person für eine Aufgabe erzielt hätte.\n",
    "Diese Methode passt schon eher auf unser Beispiel, denn Sie würde Personen, die tendenziell viele Punkte sammeln, höhere Punktzahlen eintragen."
   ]
  },
  {
   "cell_type": "code",
   "execution_count": null,
   "metadata": {},
   "outputs": [],
   "source": [
    "punkte.interpolate(axis=1)"
   ]
  },
  {
   "cell_type": "markdown",
   "metadata": {},
   "source": [
    "Sie sehen aber auch, dass die Lücken an den Rändern durch die Interpolation nicht geschlossen werden können.\n",
    "Wir können diese Lücken nun anderweitig schließen oder die Zeilen im Notfall mit der `dropna`-Funktion komplett verwerfen."
   ]
  },
  {
   "cell_type": "code",
   "execution_count": 45,
   "metadata": {},
   "outputs": [
    {
     "data": {
      "text/html": [
       "<div>\n",
       "<style scoped>\n",
       "    .dataframe tbody tr th:only-of-type {\n",
       "        vertical-align: middle;\n",
       "    }\n",
       "\n",
       "    .dataframe tbody tr th {\n",
       "        vertical-align: top;\n",
       "    }\n",
       "\n",
       "    .dataframe thead th {\n",
       "        text-align: right;\n",
       "    }\n",
       "</style>\n",
       "<table border=\"1\" class=\"dataframe\">\n",
       "  <thead>\n",
       "    <tr style=\"text-align: right;\">\n",
       "      <th></th>\n",
       "      <th>A1</th>\n",
       "      <th>A2</th>\n",
       "      <th>A3</th>\n",
       "    </tr>\n",
       "  </thead>\n",
       "  <tbody>\n",
       "    <tr>\n",
       "      <th>Alice</th>\n",
       "      <td>5.0</td>\n",
       "      <td>7.5</td>\n",
       "      <td>10.0</td>\n",
       "    </tr>\n",
       "    <tr>\n",
       "      <th>Carol</th>\n",
       "      <td>0.0</td>\n",
       "      <td>0.0</td>\n",
       "      <td>0.0</td>\n",
       "    </tr>\n",
       "  </tbody>\n",
       "</table>\n",
       "</div>"
      ],
      "text/plain": [
       "        A1   A2    A3\n",
       "Alice  5.0  7.5  10.0\n",
       "Carol  0.0  0.0   0.0"
      ]
     },
     "execution_count": 45,
     "metadata": {},
     "output_type": "execute_result"
    }
   ],
   "source": [
    "(punkte.interpolate(axis=1)).dropna(axis=0)"
   ]
  },
  {
   "cell_type": "markdown",
   "metadata": {},
   "source": [
    "### Informationen zu `DataFrame`-Objekten\n",
    "\n",
    "Pandas stellt einige Funktionen bereit, die Ihnen allgemeine Informationen zu `DataFrame`-Objekten liefern."
   ]
  },
  {
   "cell_type": "markdown",
   "metadata": {},
   "source": [
    "Mit `head()` geben Sie die ersten 5 Zeilen der Tabelle aus.\n",
    "`tail()` liefert entsprechend die 5 letzten Zeilen."
   ]
  },
  {
   "cell_type": "code",
   "execution_count": null,
   "metadata": {},
   "outputs": [],
   "source": [
    "zahlen_np  = np.random.lognormal(0, 1, 4000).reshape((1000, 4))\n",
    "zahlen = pd.DataFrame(zahlen_np, columns=[\"Reihe1\", \"Reihe2\", \"Reihe3\", \"Reihe4\"])\n",
    "print(zahlen.head())\n",
    "print(zahlen.tail())"
   ]
  },
  {
   "cell_type": "markdown",
   "metadata": {},
   "source": [
    "`info()` liefert einige Angaben zu der Anzahl von gültigen Werten in den Spalten und zeigt deren Datentyp an."
   ]
  },
  {
   "cell_type": "code",
   "execution_count": null,
   "metadata": {},
   "outputs": [],
   "source": [
    "zahlen.info()"
   ]
  },
  {
   "cell_type": "markdown",
   "metadata": {},
   "source": [
    "Mit `describe()` erhält man einige statistische Angaben zu den Werten in allen Spalten:\n",
    "* `count`: Anzahl gültiger (nicht-NaN) Werte\n",
    "* `mean`: Mittelwert aller gültigen Werte in der Spalte\n",
    "* `std`: Standardabweichung\n",
    "* `min`: Minimum der Werte in der Spalte\n",
    "* `25%`, `50%`, `75%`: 0.25, 0.5 und 0.75 [Quantile](https://de.wikipedia.org/wiki/Quantil_(Wahrscheinlichkeitstheorie)#Besondere_Quantile)\n",
    "* `max`: Maximum der Werte in der Spalte"
   ]
  },
  {
   "cell_type": "code",
   "execution_count": null,
   "metadata": {},
   "outputs": [],
   "source": [
    "zahlen.describe()"
   ]
  },
  {
   "cell_type": "markdown",
   "metadata": {},
   "source": [
    "## Weitere Themen\n",
    "\n",
    "Die Pandas Bibliothek ist sehr umfangreicher und umfasst deutlich mehr Funktionen, als wir an dieser Stelle vorstellen können.\n",
    "Vor allem können auf `DataFrame`-Objekten viele Operationen ausgeführt werden, die auch aus relationalen Datenbanken bekannt sind, z.B. Aggregatfunktionen und Verknüpfungen."
   ]
  },
  {
   "cell_type": "code",
   "execution_count": null,
   "metadata": {},
   "outputs": [],
   "source": []
  }
 ],
 "metadata": {
  "kernelspec": {
   "display_name": "Python 3",
   "language": "python",
   "name": "python3"
  },
  "language_info": {
   "codemirror_mode": {
    "name": "ipython",
    "version": 3
   },
   "file_extension": ".py",
   "mimetype": "text/x-python",
   "name": "python",
   "nbconvert_exporter": "python",
   "pygments_lexer": "ipython3",
   "version": "3.7.3"
  },
  "toc": {
   "toc_cell": false,
   "toc_number_sections": true,
   "toc_section_display": "none",
   "toc_threshold": 6,
   "toc_window_display": true
  }
 },
 "nbformat": 4,
 "nbformat_minor": 1
}
