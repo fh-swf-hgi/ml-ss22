{
 "cells": [
  {
   "cell_type": "markdown",
   "id": "engaging-fitness",
   "metadata": {},
   "source": [
    "<figure>\n",
    "  <IMG SRC=\"https://upload.wikimedia.org/wikipedia/commons/thumb/d/d5/Fachhochschule_Südwestfalen_20xx_logo.svg/320px-Fachhochschule_Südwestfalen_20xx_logo.svg.png\" WIDTH=250 ALIGN=\"right\">\n",
    "</figure>\n",
    "\n",
    "# Machine Learning\n",
    "### Sommersemester 2021\n",
    "Prof. Dr. Heiner Giefers"
   ]
  },
  {
   "cell_type": "markdown",
   "id": "breathing-poster",
   "metadata": {},
   "source": [
    "## Aufgabe 1: Umgang mit fehlenden Daten\n",
    "\n",
    "Im folgendem Dataframe fehlen Werte für eine Reihe von Datenpunkten"
   ]
  },
  {
   "cell_type": "code",
   "execution_count": null,
   "id": "lightweight-liabilities",
   "metadata": {},
   "outputs": [],
   "source": [
    "import pandas as pd\n",
    "import numpy as np\n",
    "import datetime\n",
    "\n",
    "punkte_np = np.array([[5,np.nan,70],[np.nan,5,np.nan],[0, 0, np.nan], [np.nan, 5, 85]])\n",
    "punkte = pd.DataFrame(punkte_np, columns=[\"A1\", \"A2\", \"T1\"], index=[\"Alice\",\"Bob\",\"Carol\",\"Dave\"])\n",
    "punkte"
   ]
  },
  {
   "cell_type": "markdown",
   "id": "early-starter",
   "metadata": {},
   "source": [
    "Wir wollen nun die fehlen Werte in den Spalten `A1`, `A2` und `T1` mit sinnvollen Werten auffüllen.\n",
    "Was sinnvoll ist, hängt natürlich stark davon ab, welche Bedeutung die Spalte für den Datensatz hat und wie die fehlenden Werte zu erklären sind.\n",
    "Wir wollen hier einmal 3 verschiedene Szenarien am Beispiel einer Übungspunkteliste durchspielen:\n",
    "- Bei der Spalte `A1` handelt es sich um eine Aufgabe, die von allen Personen eingereicht werden sollte. Fehlende Werte sind also mit Null Punkten zu interpretieren.\n",
    "- Bei der zweiten Aufgabe (`A2`) konnten nicht alle Personen teilnehmen. Aus Fairnessgründen sollen fehlende Werte hier mit dem arithmetischen Mittelwert aller Ergebnisse aufgefüllt werden.\n",
    "- Bei der Spalte `T1` handelt es sich um die Bearbeitungszeit einer Aufgabe in Minuten. Leider fehlt bei einigen Personen die Zeitangabe, die Liste ist aber nach Abgabezeitpunkt sortiert. Wir wollen daher die fehlenden Zeiten (linear) interpolieren."
   ]
  },
  {
   "cell_type": "markdown",
   "id": "governing-chosen",
   "metadata": {},
   "source": [
    "**1. Füllen Sie die fehlenden Werte in Spalte `A1` mit Nullen auf**"
   ]
  },
  {
   "cell_type": "code",
   "execution_count": null,
   "id": "original-consciousness",
   "metadata": {
    "deletable": false,
    "nbgrader": {
     "cell_type": "code",
     "checksum": "410f4499127b31059980b0910f29b448",
     "grade": false,
     "grade_id": "cell-3d7f1cca8b01ee94",
     "locked": false,
     "schema_version": 3,
     "solution": true,
     "task": false
    }
   },
   "outputs": [],
   "source": [
    "# YOUR CODE HERE\n",
    "raise NotImplementedError()\n",
    "punkte"
   ]
  },
  {
   "cell_type": "code",
   "execution_count": null,
   "id": "external-combine",
   "metadata": {
    "deletable": false,
    "editable": false,
    "nbgrader": {
     "cell_type": "code",
     "checksum": "b285da016a1a8b424bb6cbfa32bc82aa",
     "grade": true,
     "grade_id": "cell-2eeec921b5e1b0ef",
     "locked": true,
     "points": 1,
     "schema_version": 3,
     "solution": false,
     "task": false
    }
   },
   "outputs": [],
   "source": []
  },
  {
   "cell_type": "markdown",
   "id": "floral-poultry",
   "metadata": {},
   "source": [
    "**2. Füllen Sie die fehlenden Werte in Spalte `A2` mit dem arithmetischen Mittelwerte aller numerischen Werte der Spalte auf**"
   ]
  },
  {
   "cell_type": "code",
   "execution_count": null,
   "id": "local-reaction",
   "metadata": {
    "deletable": false,
    "nbgrader": {
     "cell_type": "code",
     "checksum": "7936ee504069ee9fd7f5b518c1caca20",
     "grade": false,
     "grade_id": "cell-56d9c4ca1bbc298a",
     "locked": false,
     "schema_version": 3,
     "solution": true,
     "task": false
    }
   },
   "outputs": [],
   "source": [
    "# YOUR CODE HERE\n",
    "raise NotImplementedError()\n",
    "punkte"
   ]
  },
  {
   "cell_type": "code",
   "execution_count": null,
   "id": "authorized-doctrine",
   "metadata": {
    "deletable": false,
    "editable": false,
    "nbgrader": {
     "cell_type": "code",
     "checksum": "ea8d2bba402fb6049be3e33f6a3e3acc",
     "grade": true,
     "grade_id": "cell-ad05817c4edbdc46",
     "locked": true,
     "points": 1,
     "schema_version": 3,
     "solution": false,
     "task": false
    }
   },
   "outputs": [],
   "source": []
  },
  {
   "cell_type": "markdown",
   "id": "nervous-court",
   "metadata": {},
   "source": [
    "**3. Interpolieren Sie die fehlenden Werte der Spalte `T1` linear**"
   ]
  },
  {
   "cell_type": "code",
   "execution_count": null,
   "id": "persistent-apparatus",
   "metadata": {
    "deletable": false,
    "nbgrader": {
     "cell_type": "code",
     "checksum": "7a534c21d0818e697cb98b45c811a1d8",
     "grade": false,
     "grade_id": "cell-2419e3a048ad2fe2",
     "locked": false,
     "schema_version": 3,
     "solution": true,
     "task": false
    }
   },
   "outputs": [],
   "source": [
    "# YOUR CODE HERE\n",
    "raise NotImplementedError()\n",
    "punkte"
   ]
  },
  {
   "cell_type": "code",
   "execution_count": null,
   "id": "bizarre-sperm",
   "metadata": {
    "deletable": false,
    "editable": false,
    "nbgrader": {
     "cell_type": "code",
     "checksum": "079c01dab7a53466defa8c443e47e719",
     "grade": true,
     "grade_id": "cell-e525ae873bf9d4d8",
     "locked": true,
     "points": 1,
     "schema_version": 3,
     "solution": false,
     "task": false
    }
   },
   "outputs": [],
   "source": []
  }
 ],
 "metadata": {
  "kernelspec": {
   "display_name": "Python 3",
   "language": "python",
   "name": "python3"
  },
  "language_info": {
   "codemirror_mode": {
    "name": "ipython",
    "version": 3
   },
   "file_extension": ".py",
   "mimetype": "text/x-python",
   "name": "python",
   "nbconvert_exporter": "python",
   "pygments_lexer": "ipython3",
   "version": "3.7.3"
  }
 },
 "nbformat": 4,
 "nbformat_minor": 5
}
